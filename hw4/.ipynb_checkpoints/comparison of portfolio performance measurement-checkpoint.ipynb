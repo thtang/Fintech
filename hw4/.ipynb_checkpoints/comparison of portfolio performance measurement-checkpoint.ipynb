{
 "cells": [
  {
   "cell_type": "code",
   "execution_count": 2,
   "metadata": {},
   "outputs": [],
   "source": [
    "import pandas as pd\n",
    "import matplotlib.pyplot as plt\n",
    "%matplotlib inline"
   ]
  },
  {
   "cell_type": "code",
   "execution_count": 3,
   "metadata": {},
   "outputs": [],
   "source": [
    "data = pd.read_csv(\"C:/Users/thtang/Documents/GitHub/Fintech-Text-Mining-and-Machine-Learning/hw1/crawler_data.csv\")\n",
    "data.shape\n",
    "data.drop(\"Date\", axis=1, inplace=True)"
   ]
  },
  {
   "cell_type": "code",
   "execution_count": 4,
   "metadata": {},
   "outputs": [],
   "source": [
    "data_shift_weekly = data.shift(periods=7, freq=None, axis=0)\n",
    "weekly_return = ((data-data_shift_weekly)/data_shift_weekly).dropna()\n",
    "\n",
    "data_shift_monthly = data.shift(periods=30, freq=None, axis=0)\n",
    "monthly_return = ((data-data_shift_monthly)/data_shift_monthly).dropna()"
   ]
  },
  {
   "cell_type": "code",
   "execution_count": 5,
   "metadata": {},
   "outputs": [
    {
     "data": {
      "image/png": "[encoded data removed]",
      "text/plain": [
       "<Figure size 432x288 with 1 Axes>"
      ]
     },
     "metadata": {},
     "output_type": "display_data"
    }
   ],
   "source": [
    "plt.hist(weekly_return[\"AGG\"], bins=50)\n",
    "plt.show()"
   ]
  },
  {
   "cell_type": "markdown",
   "metadata": {},
   "source": [
    "1. ASKSR"
   ]
  },
  {
   "cell_type": "code",
   "execution_count": 6,
   "metadata": {},
   "outputs": [],
   "source": [
    "lamb = 1\n",
    "rf = 0\n",
    "def compute_ASKSR(u, sigma, S, K):\n",
    "    # condition K>3+5/3*S**2\n",
    "    alpha = 3*(3*K-4*S**2-9)**0.5/((sigma**2)*(3*K-5*S**2-9))\n",
    "    beta = 3*S/(sigma*(3*K-5*S**2-9))\n",
    "    eta = u-3*S*sigma/(3*K-4*S**2-9)\n",
    "    delta = 3*sigma*(3*K-5*S**2-9)**0.5/(3*K-4*S**2-9)\n",
    "    phi = (alpha**2-beta**2)**0.5\n",
    "    a_star = 1/lamb*(beta+(alpha*(eta-rf))/((delta**2+(eta-rf)**2)**0.5))\n",
    "    ASKSR = (2*(lamb*a_star*(eta-rf)-delta*(phi-(alpha**2-(beta-lamb*a_star))**0.5)))**0.5\n",
    "    return ASKSR"
   ]
  },
  {
   "cell_type": "code",
   "execution_count": 7,
   "metadata": {
    "scrolled": true
   },
   "outputs": [
    {
     "name": "stdout",
     "output_type": "stream",
     "text": [
      "AGG     False\n",
      "BND     False\n",
      "BSV     False\n",
      "BNDX    False\n",
      "MINT    False\n",
      "BIV     False\n",
      "NEAR    False\n",
      "SCHZ    False\n",
      "FTSM    False\n",
      "SPAB    False\n",
      "BLV     False\n",
      "TOTL    False\n",
      "IUSB    False\n",
      "GVI     False\n",
      "ISTB    False\n",
      "BOND    False\n",
      "IAGG    False\n",
      "FBND    False\n",
      "VBND    False\n",
      "AGGY    False\n",
      "RAVI     True\n",
      "ILTB    False\n",
      "LDUR     True\n",
      "FTSD    False\n",
      "ULST    False\n",
      "FLTB    False\n",
      "XMPT    False\n",
      "FIBR    False\n",
      "MINC    False\n",
      "AGZD     True\n",
      "NFLT    False\n",
      "HOLD     True\n",
      "FCOR     True\n",
      "BYLD    False\n",
      "KCNY    False\n",
      "WYDE    False\n",
      "SAGG    False\n",
      "AGND    False\n",
      "dtype: bool\n"
     ]
    }
   ],
   "source": [
    "u = weekly_return.mean()\n",
    "sigma = weekly_return.std()\n",
    "S = weekly_return.skew()\n",
    "K = weekly_return.kurt()\n",
    "# check whether the distribution following the condition for NIG distribution\n",
    "print(K>3+5/3*S**2) "
   ]
  },
  {
   "cell_type": "code",
   "execution_count": 8,
   "metadata": {
    "scrolled": true
   },
   "outputs": [
    {
     "name": "stdout",
     "output_type": "stream",
     "text": [
      "ASKSR Result\n",
      "AGG           NaN\n",
      "BND           NaN\n",
      "BSV           NaN\n",
      "BNDX          NaN\n",
      "MINT          NaN\n",
      "BIV           NaN\n",
      "NEAR          NaN\n",
      "SCHZ          NaN\n",
      "FTSM          NaN\n",
      "SPAB          NaN\n",
      "BLV           NaN\n",
      "TOTL          NaN\n",
      "IUSB          NaN\n",
      "GVI           NaN\n",
      "ISTB          NaN\n",
      "BOND          NaN\n",
      "IAGG          NaN\n",
      "FBND          NaN\n",
      "VBND          NaN\n",
      "AGGY          NaN\n",
      "RAVI     7.731883\n",
      "ILTB          NaN\n",
      "LDUR    22.851686\n",
      "FTSD          NaN\n",
      "ULST          NaN\n",
      "FLTB          NaN\n",
      "XMPT          NaN\n",
      "FIBR          NaN\n",
      "MINC          NaN\n",
      "AGZD     3.331421\n",
      "NFLT          NaN\n",
      "HOLD    15.317796\n",
      "FCOR     3.119237\n",
      "BYLD          NaN\n",
      "KCNY          NaN\n",
      "WYDE          NaN\n",
      "SAGG          NaN\n",
      "AGND          NaN\n",
      "dtype: float64\n"
     ]
    }
   ],
   "source": [
    "print(\"ASKSR Result\")\n",
    "print(compute_ASKSR(u, sigma, S, K))"
   ]
  },
  {
   "cell_type": "code",
   "execution_count": 10,
   "metadata": {},
   "outputs": [
    {
     "name": "stdout",
     "output_type": "stream",
     "text": [
      "AGG     False\n",
      "BND     False\n",
      "BSV     False\n",
      "BNDX    False\n",
      "MINT    False\n",
      "BIV     False\n",
      "NEAR    False\n",
      "SCHZ    False\n",
      "FTSM    False\n",
      "SPAB    False\n",
      "BLV     False\n",
      "TOTL    False\n",
      "IUSB    False\n",
      "GVI     False\n",
      "ISTB    False\n",
      "BOND    False\n",
      "IAGG    False\n",
      "FBND    False\n",
      "VBND    False\n",
      "AGGY    False\n",
      "RAVI    False\n",
      "ILTB    False\n",
      "LDUR    False\n",
      "FTSD    False\n",
      "ULST    False\n",
      "FLTB    False\n",
      "XMPT    False\n",
      "FIBR    False\n",
      "MINC    False\n",
      "AGZD     True\n",
      "NFLT    False\n",
      "HOLD    False\n",
      "FCOR    False\n",
      "BYLD    False\n",
      "KCNY    False\n",
      "WYDE    False\n",
      "SAGG    False\n",
      "AGND    False\n",
      "dtype: bool\n",
      "ASKSR Result\n"
     ]
    }
   ],
   "source": [
    "u = monthly_return.mean()\n",
    "sigma = monthly_return.std()\n",
    "S = monthly_return.skew()\n",
    "K = monthly_return.kurt()\n",
    "# check whether the distribution following the condition for NIG distribution\n",
    "print(K>3+5/3*S**2)\n",
    "print(\"ASKSR Result\")"
   ]
  },
  {
   "cell_type": "code",
   "execution_count": 11,
   "metadata": {
    "scrolled": true
   },
   "outputs": [
    {
     "name": "stdout",
     "output_type": "stream",
     "text": [
      "AGG           NaN\n",
      "BND           NaN\n",
      "BSV           NaN\n",
      "BNDX          NaN\n",
      "MINT          NaN\n",
      "BIV           NaN\n",
      "NEAR          NaN\n",
      "SCHZ          NaN\n",
      "FTSM          NaN\n",
      "SPAB          NaN\n",
      "BLV           NaN\n",
      "TOTL          NaN\n",
      "IUSB          NaN\n",
      "GVI           NaN\n",
      "ISTB          NaN\n",
      "BOND          NaN\n",
      "IAGG          NaN\n",
      "FBND          NaN\n",
      "VBND          NaN\n",
      "AGGY          NaN\n",
      "RAVI          NaN\n",
      "ILTB          NaN\n",
      "LDUR          NaN\n",
      "FTSD          NaN\n",
      "ULST          NaN\n",
      "FLTB          NaN\n",
      "XMPT          NaN\n",
      "FIBR          NaN\n",
      "MINC          NaN\n",
      "AGZD    11.629671\n",
      "NFLT          NaN\n",
      "HOLD          NaN\n",
      "FCOR          NaN\n",
      "BYLD          NaN\n",
      "KCNY          NaN\n",
      "WYDE          NaN\n",
      "SAGG          NaN\n",
      "AGND          NaN\n",
      "dtype: float64\n"
     ]
    }
   ],
   "source": [
    "print(compute_ASKSR(u, sigma, S, K))"
   ]
  },
  {
   "cell_type": "code",
   "execution_count": null,
   "metadata": {},
   "outputs": [],
   "source": []
  }
 ],
 "metadata": {
  "kernelspec": {
   "display_name": "Python 3",
   "language": "python",
   "name": "python3"
  },
  "language_info": {
   "codemirror_mode": {
    "name": "ipython",
    "version": 3
   },
   "file_extension": ".py",
   "mimetype": "text/x-python",
   "name": "python",
   "nbconvert_exporter": "python",
   "pygments_lexer": "ipython3",
   "version": "3.6.5"
  }
 },
 "nbformat": 4,
 "nbformat_minor": 2
}
