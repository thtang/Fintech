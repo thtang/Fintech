{
 "cells": [
  {
   "cell_type": "code",
   "execution_count": 85,
   "metadata": {},
   "outputs": [],
   "source": [
    "import pandas as pd\n",
    "import numpy as np\n",
    "import os\n",
    "import matplotlib.pyplot as plt\n",
    "from bs4 import BeautifulSoup\n",
    "import nltk\n",
    "from bosonnlp import BosonNLP\n",
    "import pickle\n",
    "import numpy as np\n",
    "import itertools\n",
    "from scipy.sparse import csr_matrix\n",
    "from collections import OrderedDict\n",
    "\n",
    "\n",
    "%matplotlib inline"
   ]
  },
  {
   "cell_type": "code",
   "execution_count": 4,
   "metadata": {},
   "outputs": [],
   "source": [
    "nlp = BosonNLP('kNKCfN_V.4919.-3H8F-XH-BQk')"
   ]
  },
  {
   "cell_type": "code",
   "execution_count": null,
   "metadata": {},
   "outputs": [],
   "source": []
  },
  {
   "cell_type": "code",
   "execution_count": 23,
   "metadata": {},
   "outputs": [],
   "source": [
    "def clean_text(s):\n",
    "    s = s.replace(\" \",\"\")\n",
    "    s = s.replace(\"\\n\",\"\")\n",
    "    return s\n",
    "\n",
    "news_day = os.listdir(\"C:/Users/thtang/Desktop/NLP_for_Fintech/SysJustNews/news-vip/\")\n",
    "news_id = []\n",
    "news_complete_paths = []\n",
    "for day in news_day:\n",
    "    path = os.path.join(\"C:/Users/thtang/Desktop/NLP_for_Fintech/SysJustNews/news-vip/\",day)\n",
    "    text_id_list = os.listdir(path)\n",
    "    news_id+= text_id_list\n",
    "    for i in text_id_list:\n",
    "        news_complete_paths.append(os.path.join(path,i))\n",
    "news_complete_paths = np.array(news_complete_paths)"
   ]
  },
  {
   "cell_type": "code",
   "execution_count": 38,
   "metadata": {},
   "outputs": [],
   "source": [
    "select_path_index = np.random.randint(0,len(news_complete_paths),493)"
   ]
  },
  {
   "cell_type": "code",
   "execution_count": 39,
   "metadata": {},
   "outputs": [],
   "source": [
    "select_news = news_complete_paths[select_path_index]"
   ]
  },
  {
   "cell_type": "code",
   "execution_count": 40,
   "metadata": {},
   "outputs": [],
   "source": [
    "doc_NER = []\n",
    "for path in select_news:\n",
    "    with open(path,\"r\", encoding = 'utf8') as f:\n",
    "        text = clean_text(f.read())\n",
    "    soup = BeautifulSoup(text)\n",
    "    ner_output = nlp.ner(soup.text, sensitivity=2)\n",
    "    doc_NER.append(ner_output)"
   ]
  },
  {
   "cell_type": "code",
   "execution_count": 45,
   "metadata": {},
   "outputs": [],
   "source": [
    "pickle.dump(doc_NER, open(\"./doc_NER.pkl\",\"wb\"))"
   ]
  },
  {
   "cell_type": "code",
   "execution_count": 73,
   "metadata": {},
   "outputs": [],
   "source": [
    "ner_corpus = []\n",
    "for i in range(len(doc_NER)):\n",
    "    ner_doc = []\n",
    "    for tup in doc_NER[i][0][\"entity\"]:\n",
    "        if tup[2]==\"company_name\" or tup[2]==\"product_name\":\n",
    "            word = doc_NER[i][0][\"word\"][tup[0]:tup[1]]\n",
    "            ner_doc+=word\n",
    "    if ner_doc != []:\n",
    "        ner_corpus.append(ner_doc)"
   ]
  },
  {
   "cell_type": "code",
   "execution_count": 86,
   "metadata": {},
   "outputs": [],
   "source": [
    "names = list(set([w for l in ner_corpus for w in l]))\n",
    "occurrences = OrderedDict((name, OrderedDict((name, 0) for name in names)) for name in names)\n",
    " \n",
    "# Find the co-occurrences:\n",
    "for l in ner_corpus:\n",
    "    for i in range(len(l)):\n",
    "        for item in l[:i] + l[i + 1:]:\n",
    "            occurrences[l[i]][item] += 1\n",
    "            \n",
    "co_occur = pd.DataFrame.from_dict(occurrences)"
   ]
  },
  {
   "cell_type": "code",
   "execution_count": 89,
   "metadata": {},
   "outputs": [],
   "source": [
    "co_occur.to_csv('./fin_cooccurancy_matrix.csv')"
   ]
  },
  {
   "cell_type": "code",
   "execution_count": null,
   "metadata": {},
   "outputs": [],
   "source": []
  }
 ],
 "metadata": {
  "kernelspec": {
   "display_name": "Python 3",
   "language": "python",
   "name": "python3"
  },
  "language_info": {
   "codemirror_mode": {
    "name": "ipython",
    "version": 3
   },
   "file_extension": ".py",
   "mimetype": "text/x-python",
   "name": "python",
   "nbconvert_exporter": "python",
   "pygments_lexer": "ipython3",
   "version": "3.7.1"
  }
 },
 "nbformat": 4,
 "nbformat_minor": 2
}
