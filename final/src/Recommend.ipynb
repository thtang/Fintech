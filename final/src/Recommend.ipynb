{
 "cells": [
  {
   "cell_type": "code",
   "execution_count": null,
   "metadata": {},
   "outputs": [],
   "source": [
    "import pandas as pd\n",
    "import pickle\n",
    "import numpy as np\n",
    "from lightfm.cross_validation import random_train_test_split\n",
    "from lightfm.evaluation import *\n",
    "from lightfm.data import Dataset"
   ]
  },
  {
   "cell_type": "code",
   "execution_count": 49,
   "metadata": {
    "scrolled": true
   },
   "outputs": [
    {
     "data": {
      "text/html": [
       "<div>\n",
       "<style scoped>\n",
       "    .dataframe tbody tr th:only-of-type {\n",
       "        vertical-align: middle;\n",
       "    }\n",
       "\n",
       "    .dataframe tbody tr th {\n",
       "        vertical-align: top;\n",
       "    }\n",
       "\n",
       "    .dataframe thead th {\n",
       "        text-align: right;\n",
       "    }\n",
       "</style>\n",
       "<table border=\"1\" class=\"dataframe\">\n",
       "  <thead>\n",
       "    <tr style=\"text-align: right;\">\n",
       "      <th></th>\n",
       "      <th>客戶</th>\n",
       "      <th>基金</th>\n",
       "      <th>基金簡稱</th>\n",
       "      <th>風險等級</th>\n",
       "      <th>金額</th>\n",
       "    </tr>\n",
       "  </thead>\n",
       "  <tbody>\n",
       "    <tr>\n",
       "      <th>0</th>\n",
       "      <td>100066</td>\n",
       "      <td>1</td>\n",
       "      <td>野村優質基金-累積類型新臺幣計價</td>\n",
       "      <td>RR4</td>\n",
       "      <td>3000</td>\n",
       "    </tr>\n",
       "    <tr>\n",
       "      <th>1</th>\n",
       "      <td>100066</td>\n",
       "      <td>5</td>\n",
       "      <td>野村 e科技基金</td>\n",
       "      <td>RR5</td>\n",
       "      <td>36079</td>\n",
       "    </tr>\n",
       "    <tr>\n",
       "      <th>2</th>\n",
       "      <td>100066</td>\n",
       "      <td>7</td>\n",
       "      <td>野村中小基金-累積類型</td>\n",
       "      <td>RR5</td>\n",
       "      <td>40000</td>\n",
       "    </tr>\n",
       "    <tr>\n",
       "      <th>3</th>\n",
       "      <td>100066</td>\n",
       "      <td>9</td>\n",
       "      <td>野村全球高股息基金-累積型新臺幣計價</td>\n",
       "      <td>RR4</td>\n",
       "      <td>3000</td>\n",
       "    </tr>\n",
       "    <tr>\n",
       "      <th>4</th>\n",
       "      <td>100066</td>\n",
       "      <td>30</td>\n",
       "      <td>野村精選貨幣市場基金</td>\n",
       "      <td>RR1</td>\n",
       "      <td>0</td>\n",
       "    </tr>\n",
       "    <tr>\n",
       "      <th>5</th>\n",
       "      <td>100066</td>\n",
       "      <td>37</td>\n",
       "      <td>野村全球生技醫療基金</td>\n",
       "      <td>RR4</td>\n",
       "      <td>9617</td>\n",
       "    </tr>\n",
       "    <tr>\n",
       "      <th>6</th>\n",
       "      <td>100066</td>\n",
       "      <td>46</td>\n",
       "      <td>野村新興傘型之大俄羅斯基金</td>\n",
       "      <td>RR5</td>\n",
       "      <td>54273</td>\n",
       "    </tr>\n",
       "    <tr>\n",
       "      <th>7</th>\n",
       "      <td>100066</td>\n",
       "      <td>48</td>\n",
       "      <td>野村中國機會基金</td>\n",
       "      <td>RR5</td>\n",
       "      <td>119385</td>\n",
       "    </tr>\n",
       "    <tr>\n",
       "      <th>8</th>\n",
       "      <td>100066</td>\n",
       "      <td>49</td>\n",
       "      <td>野村全球美元投資級公司債基金-累積型</td>\n",
       "      <td>RR2</td>\n",
       "      <td>5000</td>\n",
       "    </tr>\n",
       "    <tr>\n",
       "      <th>9</th>\n",
       "      <td>100066</td>\n",
       "      <td>51</td>\n",
       "      <td>野村巴西證券投資信託基金</td>\n",
       "      <td>RR5</td>\n",
       "      <td>88041</td>\n",
       "    </tr>\n",
       "    <tr>\n",
       "      <th>10</th>\n",
       "      <td>100066</td>\n",
       "      <td>55</td>\n",
       "      <td>野村雙印傘型之印尼潛力基金</td>\n",
       "      <td>RR5</td>\n",
       "      <td>0</td>\n",
       "    </tr>\n",
       "    <tr>\n",
       "      <th>11</th>\n",
       "      <td>100066</td>\n",
       "      <td>56</td>\n",
       "      <td>野村亞太複合高收益債基金-累積型新臺幣計價</td>\n",
       "      <td>RR4</td>\n",
       "      <td>3000</td>\n",
       "    </tr>\n",
       "    <tr>\n",
       "      <th>12</th>\n",
       "      <td>100066</td>\n",
       "      <td>94</td>\n",
       "      <td>野村全球短期收益基金-新台幣計價</td>\n",
       "      <td>RR2</td>\n",
       "      <td>232037</td>\n",
       "    </tr>\n",
       "    <tr>\n",
       "      <th>13</th>\n",
       "      <td>100066</td>\n",
       "      <td>95</td>\n",
       "      <td>野村多元收益平衡基金-累積類型新臺幣計價</td>\n",
       "      <td>RR3</td>\n",
       "      <td>3000</td>\n",
       "    </tr>\n",
       "    <tr>\n",
       "      <th>14</th>\n",
       "      <td>100066</td>\n",
       "      <td>A9</td>\n",
       "      <td>野村亞太新興債券基金-累積類型新臺幣計價</td>\n",
       "      <td>RR3</td>\n",
       "      <td>5000</td>\n",
       "    </tr>\n",
       "    <tr>\n",
       "      <th>15</th>\n",
       "      <td>100542</td>\n",
       "      <td>20</td>\n",
       "      <td>野村環球基金-新臺幣計價</td>\n",
       "      <td>RR4</td>\n",
       "      <td>3000</td>\n",
       "    </tr>\n",
       "    <tr>\n",
       "      <th>16</th>\n",
       "      <td>100558</td>\n",
       "      <td>7</td>\n",
       "      <td>野村中小基金-累積類型</td>\n",
       "      <td>RR5</td>\n",
       "      <td>6000</td>\n",
       "    </tr>\n",
       "    <tr>\n",
       "      <th>17</th>\n",
       "      <td>100558</td>\n",
       "      <td>18</td>\n",
       "      <td>野村台灣運籌基金</td>\n",
       "      <td>RR4</td>\n",
       "      <td>3000</td>\n",
       "    </tr>\n",
       "    <tr>\n",
       "      <th>18</th>\n",
       "      <td>100558</td>\n",
       "      <td>37</td>\n",
       "      <td>野村全球生技醫療基金</td>\n",
       "      <td>RR4</td>\n",
       "      <td>0</td>\n",
       "    </tr>\n",
       "    <tr>\n",
       "      <th>19</th>\n",
       "      <td>100558</td>\n",
       "      <td>48</td>\n",
       "      <td>野村中國機會基金</td>\n",
       "      <td>RR5</td>\n",
       "      <td>3000</td>\n",
       "    </tr>\n",
       "  </tbody>\n",
       "</table>\n",
       "</div>"
      ],
      "text/plain": [
       "        客戶  基金                   基金簡稱 風險等級      金額\n",
       "0   100066   1       野村優質基金-累積類型新臺幣計價  RR4    3000\n",
       "1   100066   5               野村 e科技基金  RR5   36079\n",
       "2   100066   7            野村中小基金-累積類型  RR5   40000\n",
       "3   100066   9     野村全球高股息基金-累積型新臺幣計價  RR4    3000\n",
       "4   100066  30             野村精選貨幣市場基金  RR1       0\n",
       "5   100066  37             野村全球生技醫療基金  RR4    9617\n",
       "6   100066  46          野村新興傘型之大俄羅斯基金  RR5   54273\n",
       "7   100066  48               野村中國機會基金  RR5  119385\n",
       "8   100066  49     野村全球美元投資級公司債基金-累積型  RR2    5000\n",
       "9   100066  51           野村巴西證券投資信託基金  RR5   88041\n",
       "10  100066  55          野村雙印傘型之印尼潛力基金  RR5       0\n",
       "11  100066  56  野村亞太複合高收益債基金-累積型新臺幣計價  RR4    3000\n",
       "12  100066  94       野村全球短期收益基金-新台幣計價  RR2  232037\n",
       "13  100066  95   野村多元收益平衡基金-累積類型新臺幣計價  RR3    3000\n",
       "14  100066  A9   野村亞太新興債券基金-累積類型新臺幣計價  RR3    5000\n",
       "15  100542  20           野村環球基金-新臺幣計價  RR4    3000\n",
       "16  100558   7            野村中小基金-累積類型  RR5    6000\n",
       "17  100558  18               野村台灣運籌基金  RR4    3000\n",
       "18  100558  37             野村全球生技醫療基金  RR4       0\n",
       "19  100558  48               野村中國機會基金  RR5    3000"
      ]
     },
     "execution_count": 49,
     "metadata": {},
     "output_type": "execute_result"
    }
   ],
   "source": [
    "invest = pd.read_excel('invest_data.xlsx').fillna(0)\n",
    "invest.head(20)"
   ]
  },
  {
   "cell_type": "code",
   "execution_count": 50,
   "metadata": {},
   "outputs": [],
   "source": [
    "invest = invest.infer_objects()"
   ]
  },
  {
   "cell_type": "code",
   "execution_count": 51,
   "metadata": {},
   "outputs": [
    {
     "data": {
      "text/plain": [
       "客戶       int64\n",
       "基金      object\n",
       "基金簡稱    object\n",
       "風險等級    object\n",
       "金額       int64\n",
       "dtype: object"
      ]
     },
     "execution_count": 51,
     "metadata": {},
     "output_type": "execute_result"
    }
   ],
   "source": [
    "invest.dtypes"
   ]
  },
  {
   "cell_type": "code",
   "execution_count": 52,
   "metadata": {},
   "outputs": [],
   "source": [
    "fund = invest[['基金','基金簡稱','風險等級']].drop_duplicates('基金','first')"
   ]
  },
  {
   "cell_type": "code",
   "execution_count": 53,
   "metadata": {},
   "outputs": [],
   "source": [
    "fund_dict = fund.set_index('基金').T.to_dict()"
   ]
  },
  {
   "cell_type": "code",
   "execution_count": 66,
   "metadata": {
    "scrolled": true
   },
   "outputs": [
    {
     "data": {
      "text/plain": [
       "{'基金簡稱': '野村優質基金-累積類型新臺幣計價', '風險等級': 'RR4'}"
      ]
     },
     "execution_count": 66,
     "metadata": {},
     "output_type": "execute_result"
    }
   ],
   "source": [
    "fund_dict[1]"
   ]
  },
  {
   "cell_type": "code",
   "execution_count": 55,
   "metadata": {},
   "outputs": [],
   "source": [
    "invest_sum = invest.groupby(by='客戶', as_index=True,sort=False).sum()"
   ]
  },
  {
   "cell_type": "code",
   "execution_count": 56,
   "metadata": {},
   "outputs": [
    {
     "data": {
      "text/html": [
       "<div>\n",
       "<style scoped>\n",
       "    .dataframe tbody tr th:only-of-type {\n",
       "        vertical-align: middle;\n",
       "    }\n",
       "\n",
       "    .dataframe tbody tr th {\n",
       "        vertical-align: top;\n",
       "    }\n",
       "\n",
       "    .dataframe thead th {\n",
       "        text-align: right;\n",
       "    }\n",
       "</style>\n",
       "<table border=\"1\" class=\"dataframe\">\n",
       "  <thead>\n",
       "    <tr style=\"text-align: right;\">\n",
       "      <th></th>\n",
       "      <th>總金額</th>\n",
       "    </tr>\n",
       "    <tr>\n",
       "      <th>客戶</th>\n",
       "      <th></th>\n",
       "    </tr>\n",
       "  </thead>\n",
       "  <tbody>\n",
       "    <tr>\n",
       "      <th>100066</th>\n",
       "      <td>601432</td>\n",
       "    </tr>\n",
       "    <tr>\n",
       "      <th>100542</th>\n",
       "      <td>3000</td>\n",
       "    </tr>\n",
       "    <tr>\n",
       "      <th>100558</th>\n",
       "      <td>12000</td>\n",
       "    </tr>\n",
       "    <tr>\n",
       "      <th>100606</th>\n",
       "      <td>12000</td>\n",
       "    </tr>\n",
       "    <tr>\n",
       "      <th>100657</th>\n",
       "      <td>5000</td>\n",
       "    </tr>\n",
       "  </tbody>\n",
       "</table>\n",
       "</div>"
      ],
      "text/plain": [
       "           總金額\n",
       "客戶            \n",
       "100066  601432\n",
       "100542    3000\n",
       "100558   12000\n",
       "100606   12000\n",
       "100657    5000"
      ]
     },
     "execution_count": 56,
     "metadata": {},
     "output_type": "execute_result"
    }
   ],
   "source": [
    "invest_sum.rename(columns={'金額':'總金額'},inplace=True)\n",
    "invest_sum.head()"
   ]
  },
  {
   "cell_type": "code",
   "execution_count": 57,
   "metadata": {},
   "outputs": [],
   "source": [
    "invest = pd.merge(invest, invest_sum, on=['客戶'])"
   ]
  },
  {
   "cell_type": "code",
   "execution_count": 58,
   "metadata": {},
   "outputs": [
    {
     "data": {
      "text/html": [
       "<div>\n",
       "<style scoped>\n",
       "    .dataframe tbody tr th:only-of-type {\n",
       "        vertical-align: middle;\n",
       "    }\n",
       "\n",
       "    .dataframe tbody tr th {\n",
       "        vertical-align: top;\n",
       "    }\n",
       "\n",
       "    .dataframe thead th {\n",
       "        text-align: right;\n",
       "    }\n",
       "</style>\n",
       "<table border=\"1\" class=\"dataframe\">\n",
       "  <thead>\n",
       "    <tr style=\"text-align: right;\">\n",
       "      <th></th>\n",
       "      <th>客戶</th>\n",
       "      <th>基金</th>\n",
       "      <th>基金簡稱</th>\n",
       "      <th>風險等級</th>\n",
       "      <th>金額</th>\n",
       "      <th>總金額</th>\n",
       "    </tr>\n",
       "  </thead>\n",
       "  <tbody>\n",
       "    <tr>\n",
       "      <th>0</th>\n",
       "      <td>100066</td>\n",
       "      <td>1</td>\n",
       "      <td>野村優質基金-累積類型新臺幣計價</td>\n",
       "      <td>RR4</td>\n",
       "      <td>3000</td>\n",
       "      <td>601432</td>\n",
       "    </tr>\n",
       "    <tr>\n",
       "      <th>1</th>\n",
       "      <td>100066</td>\n",
       "      <td>5</td>\n",
       "      <td>野村 e科技基金</td>\n",
       "      <td>RR5</td>\n",
       "      <td>36079</td>\n",
       "      <td>601432</td>\n",
       "    </tr>\n",
       "    <tr>\n",
       "      <th>2</th>\n",
       "      <td>100066</td>\n",
       "      <td>7</td>\n",
       "      <td>野村中小基金-累積類型</td>\n",
       "      <td>RR5</td>\n",
       "      <td>40000</td>\n",
       "      <td>601432</td>\n",
       "    </tr>\n",
       "    <tr>\n",
       "      <th>3</th>\n",
       "      <td>100066</td>\n",
       "      <td>9</td>\n",
       "      <td>野村全球高股息基金-累積型新臺幣計價</td>\n",
       "      <td>RR4</td>\n",
       "      <td>3000</td>\n",
       "      <td>601432</td>\n",
       "    </tr>\n",
       "    <tr>\n",
       "      <th>4</th>\n",
       "      <td>100066</td>\n",
       "      <td>30</td>\n",
       "      <td>野村精選貨幣市場基金</td>\n",
       "      <td>RR1</td>\n",
       "      <td>0</td>\n",
       "      <td>601432</td>\n",
       "    </tr>\n",
       "  </tbody>\n",
       "</table>\n",
       "</div>"
      ],
      "text/plain": [
       "       客戶  基金                基金簡稱 風險等級     金額     總金額\n",
       "0  100066   1    野村優質基金-累積類型新臺幣計價  RR4   3000  601432\n",
       "1  100066   5            野村 e科技基金  RR5  36079  601432\n",
       "2  100066   7         野村中小基金-累積類型  RR5  40000  601432\n",
       "3  100066   9  野村全球高股息基金-累積型新臺幣計價  RR4   3000  601432\n",
       "4  100066  30          野村精選貨幣市場基金  RR1      0  601432"
      ]
     },
     "execution_count": 58,
     "metadata": {},
     "output_type": "execute_result"
    }
   ],
   "source": [
    "invest.head()"
   ]
  },
  {
   "cell_type": "code",
   "execution_count": 59,
   "metadata": {},
   "outputs": [],
   "source": [
    "invest['weight'] = invest['金額']/invest['總金額']"
   ]
  },
  {
   "cell_type": "code",
   "execution_count": 60,
   "metadata": {},
   "outputs": [
    {
     "data": {
      "text/html": [
       "<div>\n",
       "<style scoped>\n",
       "    .dataframe tbody tr th:only-of-type {\n",
       "        vertical-align: middle;\n",
       "    }\n",
       "\n",
       "    .dataframe tbody tr th {\n",
       "        vertical-align: top;\n",
       "    }\n",
       "\n",
       "    .dataframe thead th {\n",
       "        text-align: right;\n",
       "    }\n",
       "</style>\n",
       "<table border=\"1\" class=\"dataframe\">\n",
       "  <thead>\n",
       "    <tr style=\"text-align: right;\">\n",
       "      <th></th>\n",
       "      <th>客戶</th>\n",
       "      <th>基金</th>\n",
       "      <th>基金簡稱</th>\n",
       "      <th>風險等級</th>\n",
       "      <th>金額</th>\n",
       "      <th>總金額</th>\n",
       "      <th>weight</th>\n",
       "    </tr>\n",
       "  </thead>\n",
       "  <tbody>\n",
       "    <tr>\n",
       "      <th>0</th>\n",
       "      <td>100066</td>\n",
       "      <td>1</td>\n",
       "      <td>野村優質基金-累積類型新臺幣計價</td>\n",
       "      <td>RR4</td>\n",
       "      <td>3000</td>\n",
       "      <td>601432</td>\n",
       "      <td>0.004988</td>\n",
       "    </tr>\n",
       "    <tr>\n",
       "      <th>1</th>\n",
       "      <td>100066</td>\n",
       "      <td>5</td>\n",
       "      <td>野村 e科技基金</td>\n",
       "      <td>RR5</td>\n",
       "      <td>36079</td>\n",
       "      <td>601432</td>\n",
       "      <td>0.059988</td>\n",
       "    </tr>\n",
       "    <tr>\n",
       "      <th>2</th>\n",
       "      <td>100066</td>\n",
       "      <td>7</td>\n",
       "      <td>野村中小基金-累積類型</td>\n",
       "      <td>RR5</td>\n",
       "      <td>40000</td>\n",
       "      <td>601432</td>\n",
       "      <td>0.066508</td>\n",
       "    </tr>\n",
       "    <tr>\n",
       "      <th>3</th>\n",
       "      <td>100066</td>\n",
       "      <td>9</td>\n",
       "      <td>野村全球高股息基金-累積型新臺幣計價</td>\n",
       "      <td>RR4</td>\n",
       "      <td>3000</td>\n",
       "      <td>601432</td>\n",
       "      <td>0.004988</td>\n",
       "    </tr>\n",
       "    <tr>\n",
       "      <th>4</th>\n",
       "      <td>100066</td>\n",
       "      <td>30</td>\n",
       "      <td>野村精選貨幣市場基金</td>\n",
       "      <td>RR1</td>\n",
       "      <td>0</td>\n",
       "      <td>601432</td>\n",
       "      <td>0.000000</td>\n",
       "    </tr>\n",
       "    <tr>\n",
       "      <th>5</th>\n",
       "      <td>100066</td>\n",
       "      <td>37</td>\n",
       "      <td>野村全球生技醫療基金</td>\n",
       "      <td>RR4</td>\n",
       "      <td>9617</td>\n",
       "      <td>601432</td>\n",
       "      <td>0.015990</td>\n",
       "    </tr>\n",
       "    <tr>\n",
       "      <th>6</th>\n",
       "      <td>100066</td>\n",
       "      <td>46</td>\n",
       "      <td>野村新興傘型之大俄羅斯基金</td>\n",
       "      <td>RR5</td>\n",
       "      <td>54273</td>\n",
       "      <td>601432</td>\n",
       "      <td>0.090240</td>\n",
       "    </tr>\n",
       "    <tr>\n",
       "      <th>7</th>\n",
       "      <td>100066</td>\n",
       "      <td>48</td>\n",
       "      <td>野村中國機會基金</td>\n",
       "      <td>RR5</td>\n",
       "      <td>119385</td>\n",
       "      <td>601432</td>\n",
       "      <td>0.198501</td>\n",
       "    </tr>\n",
       "    <tr>\n",
       "      <th>8</th>\n",
       "      <td>100066</td>\n",
       "      <td>49</td>\n",
       "      <td>野村全球美元投資級公司債基金-累積型</td>\n",
       "      <td>RR2</td>\n",
       "      <td>5000</td>\n",
       "      <td>601432</td>\n",
       "      <td>0.008313</td>\n",
       "    </tr>\n",
       "    <tr>\n",
       "      <th>9</th>\n",
       "      <td>100066</td>\n",
       "      <td>51</td>\n",
       "      <td>野村巴西證券投資信託基金</td>\n",
       "      <td>RR5</td>\n",
       "      <td>88041</td>\n",
       "      <td>601432</td>\n",
       "      <td>0.146386</td>\n",
       "    </tr>\n",
       "    <tr>\n",
       "      <th>10</th>\n",
       "      <td>100066</td>\n",
       "      <td>55</td>\n",
       "      <td>野村雙印傘型之印尼潛力基金</td>\n",
       "      <td>RR5</td>\n",
       "      <td>0</td>\n",
       "      <td>601432</td>\n",
       "      <td>0.000000</td>\n",
       "    </tr>\n",
       "    <tr>\n",
       "      <th>11</th>\n",
       "      <td>100066</td>\n",
       "      <td>56</td>\n",
       "      <td>野村亞太複合高收益債基金-累積型新臺幣計價</td>\n",
       "      <td>RR4</td>\n",
       "      <td>3000</td>\n",
       "      <td>601432</td>\n",
       "      <td>0.004988</td>\n",
       "    </tr>\n",
       "    <tr>\n",
       "      <th>12</th>\n",
       "      <td>100066</td>\n",
       "      <td>94</td>\n",
       "      <td>野村全球短期收益基金-新台幣計價</td>\n",
       "      <td>RR2</td>\n",
       "      <td>232037</td>\n",
       "      <td>601432</td>\n",
       "      <td>0.385808</td>\n",
       "    </tr>\n",
       "    <tr>\n",
       "      <th>13</th>\n",
       "      <td>100066</td>\n",
       "      <td>95</td>\n",
       "      <td>野村多元收益平衡基金-累積類型新臺幣計價</td>\n",
       "      <td>RR3</td>\n",
       "      <td>3000</td>\n",
       "      <td>601432</td>\n",
       "      <td>0.004988</td>\n",
       "    </tr>\n",
       "    <tr>\n",
       "      <th>14</th>\n",
       "      <td>100066</td>\n",
       "      <td>A9</td>\n",
       "      <td>野村亞太新興債券基金-累積類型新臺幣計價</td>\n",
       "      <td>RR3</td>\n",
       "      <td>5000</td>\n",
       "      <td>601432</td>\n",
       "      <td>0.008313</td>\n",
       "    </tr>\n",
       "    <tr>\n",
       "      <th>15</th>\n",
       "      <td>100542</td>\n",
       "      <td>20</td>\n",
       "      <td>野村環球基金-新臺幣計價</td>\n",
       "      <td>RR4</td>\n",
       "      <td>3000</td>\n",
       "      <td>3000</td>\n",
       "      <td>1.000000</td>\n",
       "    </tr>\n",
       "    <tr>\n",
       "      <th>16</th>\n",
       "      <td>100558</td>\n",
       "      <td>7</td>\n",
       "      <td>野村中小基金-累積類型</td>\n",
       "      <td>RR5</td>\n",
       "      <td>6000</td>\n",
       "      <td>12000</td>\n",
       "      <td>0.500000</td>\n",
       "    </tr>\n",
       "    <tr>\n",
       "      <th>17</th>\n",
       "      <td>100558</td>\n",
       "      <td>18</td>\n",
       "      <td>野村台灣運籌基金</td>\n",
       "      <td>RR4</td>\n",
       "      <td>3000</td>\n",
       "      <td>12000</td>\n",
       "      <td>0.250000</td>\n",
       "    </tr>\n",
       "    <tr>\n",
       "      <th>18</th>\n",
       "      <td>100558</td>\n",
       "      <td>37</td>\n",
       "      <td>野村全球生技醫療基金</td>\n",
       "      <td>RR4</td>\n",
       "      <td>0</td>\n",
       "      <td>12000</td>\n",
       "      <td>0.000000</td>\n",
       "    </tr>\n",
       "    <tr>\n",
       "      <th>19</th>\n",
       "      <td>100558</td>\n",
       "      <td>48</td>\n",
       "      <td>野村中國機會基金</td>\n",
       "      <td>RR5</td>\n",
       "      <td>3000</td>\n",
       "      <td>12000</td>\n",
       "      <td>0.250000</td>\n",
       "    </tr>\n",
       "  </tbody>\n",
       "</table>\n",
       "</div>"
      ],
      "text/plain": [
       "        客戶  基金                   基金簡稱 風險等級      金額     總金額    weight\n",
       "0   100066   1       野村優質基金-累積類型新臺幣計價  RR4    3000  601432  0.004988\n",
       "1   100066   5               野村 e科技基金  RR5   36079  601432  0.059988\n",
       "2   100066   7            野村中小基金-累積類型  RR5   40000  601432  0.066508\n",
       "3   100066   9     野村全球高股息基金-累積型新臺幣計價  RR4    3000  601432  0.004988\n",
       "4   100066  30             野村精選貨幣市場基金  RR1       0  601432  0.000000\n",
       "5   100066  37             野村全球生技醫療基金  RR4    9617  601432  0.015990\n",
       "6   100066  46          野村新興傘型之大俄羅斯基金  RR5   54273  601432  0.090240\n",
       "7   100066  48               野村中國機會基金  RR5  119385  601432  0.198501\n",
       "8   100066  49     野村全球美元投資級公司債基金-累積型  RR2    5000  601432  0.008313\n",
       "9   100066  51           野村巴西證券投資信託基金  RR5   88041  601432  0.146386\n",
       "10  100066  55          野村雙印傘型之印尼潛力基金  RR5       0  601432  0.000000\n",
       "11  100066  56  野村亞太複合高收益債基金-累積型新臺幣計價  RR4    3000  601432  0.004988\n",
       "12  100066  94       野村全球短期收益基金-新台幣計價  RR2  232037  601432  0.385808\n",
       "13  100066  95   野村多元收益平衡基金-累積類型新臺幣計價  RR3    3000  601432  0.004988\n",
       "14  100066  A9   野村亞太新興債券基金-累積類型新臺幣計價  RR3    5000  601432  0.008313\n",
       "15  100542  20           野村環球基金-新臺幣計價  RR4    3000    3000  1.000000\n",
       "16  100558   7            野村中小基金-累積類型  RR5    6000   12000  0.500000\n",
       "17  100558  18               野村台灣運籌基金  RR4    3000   12000  0.250000\n",
       "18  100558  37             野村全球生技醫療基金  RR4       0   12000  0.000000\n",
       "19  100558  48               野村中國機會基金  RR5    3000   12000  0.250000"
      ]
     },
     "execution_count": 60,
     "metadata": {},
     "output_type": "execute_result"
    }
   ],
   "source": [
    "invest.head(20)"
   ]
  },
  {
   "cell_type": "code",
   "execution_count": null,
   "metadata": {},
   "outputs": [],
   "source": []
  },
  {
   "cell_type": "code",
   "execution_count": 16,
   "metadata": {},
   "outputs": [],
   "source": [
    "data = zip(list(invest['客戶']),list(invest['基金']),list(invest['weight']))"
   ]
  },
  {
   "cell_type": "code",
   "execution_count": 17,
   "metadata": {},
   "outputs": [],
   "source": [
    "dataset = Dataset()\n",
    "user_id = list(set(invest['客戶']))\n",
    "item_id = list(set(invest['基金']))\n",
    "dataset.fit(user_id,item_id)\n",
    "COO = dataset.build_interactions(data)"
   ]
  },
  {
   "cell_type": "code",
   "execution_count": 20,
   "metadata": {},
   "outputs": [],
   "source": [
    "id_map = dataset.mapping()"
   ]
  },
  {
   "cell_type": "code",
   "execution_count": 21,
   "metadata": {},
   "outputs": [],
   "source": [
    "user_map = id_map[0]\n",
    "internal_item_map = id_map[2]"
   ]
  },
  {
   "cell_type": "code",
   "execution_count": 22,
   "metadata": {},
   "outputs": [
    {
     "data": {
      "text/plain": [
       "181"
      ]
     },
     "execution_count": 22,
     "metadata": {},
     "output_type": "execute_result"
    }
   ],
   "source": [
    "user_map[123855]"
   ]
  },
  {
   "cell_type": "code",
   "execution_count": 23,
   "metadata": {},
   "outputs": [],
   "source": [
    "item_map={}\n",
    "for k in internal_item_map.keys():\n",
    "    v = internal_item_map[k]\n",
    "    item_map[v]=k"
   ]
  },
  {
   "cell_type": "code",
   "execution_count": 24,
   "metadata": {},
   "outputs": [
    {
     "data": {
      "text/plain": [
       "93"
      ]
     },
     "execution_count": 24,
     "metadata": {},
     "output_type": "execute_result"
    }
   ],
   "source": [
    "item_map[55]"
   ]
  },
  {
   "cell_type": "code",
   "execution_count": 65,
   "metadata": {},
   "outputs": [],
   "source": [
    "# invest.to_csv('invest_with_weight.csv', index=None, encoding=\"big5\")"
   ]
  },
  {
   "cell_type": "code",
   "execution_count": 25,
   "metadata": {},
   "outputs": [
    {
     "data": {
      "text/plain": [
       "<lightfm.lightfm.LightFM at 0x1e27dad6860>"
      ]
     },
     "execution_count": 25,
     "metadata": {},
     "output_type": "execute_result"
    }
   ],
   "source": [
    "from lightfm import LightFM\n",
    "model = LightFM(loss='warp')\n",
    "model.fit(COO[0],epochs=100,num_threads=4)"
   ]
  },
  {
   "cell_type": "code",
   "execution_count": 26,
   "metadata": {},
   "outputs": [],
   "source": [
    "query_id = 105417"
   ]
  },
  {
   "cell_type": "code",
   "execution_count": 27,
   "metadata": {},
   "outputs": [],
   "source": [
    "scores = model.predict(user_map[105417], np.arange(83))"
   ]
  },
  {
   "cell_type": "code",
   "execution_count": 29,
   "metadata": {},
   "outputs": [],
   "source": [
    "def recommendation(model, data, user_ids,user_map,item_map):\n",
    "    n_users, n_items = data.shape\n",
    "    for user_id in user_ids:\n",
    "        known_positives = invest[invest['客戶']==user_id]\n",
    "        scores = model.predict(user_map[user_id], np.arange(n_items))\n",
    "        top_items = []\n",
    "        count = 0\n",
    "        known_positive_list = list(known_positives['基金'])\n",
    "        for x in np.argsort(-scores):\n",
    "            if(item_map[x] not in known_positive_list):\n",
    "                top_items.append(item_map[x])\n",
    "                count += 1\n",
    "                if(count==3):\n",
    "                    break\n",
    "        print(\"User %s\" % user_id)\n",
    "        print(\"Known positives:\")\n",
    "        print(known_positives[['客戶','基金','基金簡稱','風險等級','金額']].head())\n",
    "        print(\"Recommended:\")\n",
    "        for x in top_items[:3]:\n",
    "            print(x,':',fund_dict[x])"
   ]
  },
  {
   "cell_type": "code",
   "execution_count": 30,
   "metadata": {},
   "outputs": [
    {
     "name": "stdout",
     "output_type": "stream",
     "text": [
      "User 105417\n",
      "Known positives:\n",
      "         客戶  基金              基金簡稱 風險等級    金額\n",
      "125  105417   1  野村優質基金-累積類型新臺幣計價  RR4  3000\n",
      "126  105417   7       野村中小基金-累積類型  RR5  3000\n",
      "127  105417  23          野村積極成長基金  RR4  3000\n",
      "128  105417  28           野村高科技基金  RR5  3000\n",
      "129  105417  93     野村日本領先基金-累積類型  RR4  3000\n",
      "Recommended:\n",
      "3 : {'基金簡稱': '野村成長基金', '風險等級': 'RR4'}\n",
      "18 : {'基金簡稱': '野村台灣運籌基金', '風險等級': 'RR4'}\n",
      "19 : {'基金簡稱': '野村鴻運基金', '風險等級': 'RR4'}\n"
     ]
    }
   ],
   "source": [
    "recommendation(model,COO[0],[query_id],user_map,item_map)"
   ]
  },
  {
   "cell_type": "code",
   "execution_count": 45,
   "metadata": {},
   "outputs": [
    {
     "data": {
      "text/plain": [
       "True"
      ]
     },
     "execution_count": 45,
     "metadata": {},
     "output_type": "execute_result"
    }
   ],
   "source": [
    "105417 in user_map"
   ]
  },
  {
   "cell_type": "code",
   "execution_count": 43,
   "metadata": {},
   "outputs": [],
   "source": [
    "pickle.dump(model, open(\"lightFM_model.pkl\",\"wb\"), )\n",
    "pickle.dump(COO, open(\"COO.pkl\",\"wb\"), )\n",
    "pickle.dump(user_map, open(\"user_map.pkl\",\"wb\"), )\n",
    "pickle.dump(item_map, open(\"item_map.pkl\",\"wb\"), )"
   ]
  },
  {
   "cell_type": "code",
   "execution_count": 67,
   "metadata": {},
   "outputs": [],
   "source": [
    "pickle.dump(fund_dict, open(\"fund_dict.pkl\",\"wb\"), )"
   ]
  },
  {
   "cell_type": "markdown",
   "metadata": {},
   "source": [
    "# Cross validation"
   ]
  },
  {
   "cell_type": "code",
   "execution_count": 32,
   "metadata": {},
   "outputs": [],
   "source": [
    "(train,test) = random_train_test_split(COO[0],test_percentage=0.1)"
   ]
  },
  {
   "cell_type": "code",
   "execution_count": 28,
   "metadata": {},
   "outputs": [
    {
     "data": {
      "text/plain": [
       "<lightfm.lightfm.LightFM at 0x1df097adbe0>"
      ]
     },
     "execution_count": 28,
     "metadata": {},
     "output_type": "execute_result"
    }
   ],
   "source": []
  },
  {
   "cell_type": "code",
   "execution_count": 33,
   "metadata": {},
   "outputs": [
    {
     "name": "stdout",
     "output_type": "stream",
     "text": [
      "Test precision: 0.06954546\n",
      "Train precision: 0.19354619\n",
      "Test auc: 0.84218377\n",
      "Train auc: 0.86500937\n"
     ]
    }
   ],
   "source": [
    "val_model = LightFM(loss='warp', learning_rate=0.001)\n",
    "val_model.fit(train,epochs=100)\n",
    "print('Test precision:',precision_at_k(val_model,test,k=10).mean())\n",
    "print('Train precision:',precision_at_k(val_model,train,k=10).mean())\n",
    "print('Test auc:',auc_score(val_model,test).mean())\n",
    "print('Train auc:',auc_score(val_model,train).mean())"
   ]
  },
  {
   "cell_type": "code",
   "execution_count": null,
   "metadata": {},
   "outputs": [],
   "source": []
  }
 ],
 "metadata": {
  "kernelspec": {
   "display_name": "Python 3",
   "language": "python",
   "name": "python3"
  },
  "language_info": {
   "codemirror_mode": {
    "name": "ipython",
    "version": 3
   },
   "file_extension": ".py",
   "mimetype": "text/x-python",
   "name": "python",
   "nbconvert_exporter": "python",
   "pygments_lexer": "ipython3",
   "version": "3.7.1"
  }
 },
 "nbformat": 4,
 "nbformat_minor": 2
}
