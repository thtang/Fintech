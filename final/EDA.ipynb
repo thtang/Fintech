{
 "cells": [
  {
   "cell_type": "code",
   "execution_count": 1,
   "metadata": {
    "collapsed": true
   },
   "outputs": [],
   "source": [
    "import pandas as pd\n",
    "import numpy as np\n",
    "from collections import defaultdict\n",
    "from sklearn.manifold import TSNE\n",
    "from sklearn.decomposition import PCA\n",
    "import matplotlib.pyplot as plt\n",
    "import seaborn as sns\n",
    "import jieba\n",
    "import nltk\n",
    "from collections import OrderedDict\n",
    "import pickle\n",
    "%matplotlib inline"
   ]
  },
  {
   "cell_type": "code",
   "execution_count": 2,
   "metadata": {
    "collapsed": true
   },
   "outputs": [],
   "source": [
    "risk_qa = pd.read_excel(\"risk_data.xlsx\")"
   ]
  },
  {
   "cell_type": "code",
   "execution_count": 3,
   "metadata": {
    "scrolled": true
   },
   "outputs": [
    {
     "data": {
      "text/html": [
       "<div>\n",
       "<style scoped>\n",
       "    .dataframe tbody tr th:only-of-type {\n",
       "        vertical-align: middle;\n",
       "    }\n",
       "\n",
       "    .dataframe tbody tr th {\n",
       "        vertical-align: top;\n",
       "    }\n",
       "\n",
       "    .dataframe thead th {\n",
       "        text-align: right;\n",
       "    }\n",
       "</style>\n",
       "<table border=\"1\" class=\"dataframe\">\n",
       "  <thead>\n",
       "    <tr style=\"text-align: right;\">\n",
       "      <th></th>\n",
       "      <th>客戶編號</th>\n",
       "      <th>風險等級</th>\n",
       "      <th>風險等級分類</th>\n",
       "      <th>適性評量填寫日期</th>\n",
       "      <th>適性版號</th>\n",
       "      <th>題目序號</th>\n",
       "      <th>KYC_QUESTION</th>\n",
       "      <th>ANS_ORDER</th>\n",
       "      <th>ANS_ITEM</th>\n",
       "      <th>答題得分</th>\n",
       "      <th>客戶職業與任職部門</th>\n",
       "      <th>AGENT代碼</th>\n",
       "    </tr>\n",
       "  </thead>\n",
       "  <tbody>\n",
       "    <tr>\n",
       "      <th>0</th>\n",
       "      <td>261909</td>\n",
       "      <td>5</td>\n",
       "      <td>積極型</td>\n",
       "      <td>2018-10-30 22:54:34.523</td>\n",
       "      <td>201809A</td>\n",
       "      <td>A0</td>\n",
       "      <td>是否為其他國家稅務居住者?</td>\n",
       "      <td>1</td>\n",
       "      <td>1.否</td>\n",
       "      <td>0</td>\n",
       "      <td>NaN</td>\n",
       "      <td>9999999999</td>\n",
       "    </tr>\n",
       "    <tr>\n",
       "      <th>1</th>\n",
       "      <td>261909</td>\n",
       "      <td>5</td>\n",
       "      <td>積極型</td>\n",
       "      <td>2018-10-30 22:54:34.523</td>\n",
       "      <td>201809A</td>\n",
       "      <td>A01</td>\n",
       "      <td>職業／行業別</td>\n",
       "      <td>8</td>\n",
       "      <td>8.退休人士</td>\n",
       "      <td>0</td>\n",
       "      <td>NaN</td>\n",
       "      <td>9999999999</td>\n",
       "    </tr>\n",
       "    <tr>\n",
       "      <th>2</th>\n",
       "      <td>261909</td>\n",
       "      <td>5</td>\n",
       "      <td>積極型</td>\n",
       "      <td>2018-10-30 22:54:34.523</td>\n",
       "      <td>201809A</td>\n",
       "      <td>A02</td>\n",
       "      <td>職務</td>\n",
       "      <td>1</td>\n",
       "      <td>1.基層職員</td>\n",
       "      <td>0</td>\n",
       "      <td>NaN</td>\n",
       "      <td>9999999999</td>\n",
       "    </tr>\n",
       "    <tr>\n",
       "      <th>3</th>\n",
       "      <td>261909</td>\n",
       "      <td>5</td>\n",
       "      <td>積極型</td>\n",
       "      <td>2018-10-30 22:54:34.523</td>\n",
       "      <td>201809A</td>\n",
       "      <td>A03</td>\n",
       "      <td>任職單位</td>\n",
       "      <td>1</td>\n",
       "      <td>1.任職公司／機構</td>\n",
       "      <td>0</td>\n",
       "      <td>寶豐</td>\n",
       "      <td>9999999999</td>\n",
       "    </tr>\n",
       "    <tr>\n",
       "      <th>4</th>\n",
       "      <td>261909</td>\n",
       "      <td>5</td>\n",
       "      <td>積極型</td>\n",
       "      <td>2018-10-30 22:54:34.523</td>\n",
       "      <td>201809A</td>\n",
       "      <td>A03</td>\n",
       "      <td>任職單位</td>\n",
       "      <td>2</td>\n",
       "      <td>2.任職部門</td>\n",
       "      <td>0</td>\n",
       "      <td>營建</td>\n",
       "      <td>9999999999</td>\n",
       "    </tr>\n",
       "  </tbody>\n",
       "</table>\n",
       "</div>"
      ],
      "text/plain": [
       "     客戶編號  風險等級 風險等級分類                 適性評量填寫日期     適性版號 題目序號   KYC_QUESTION  \\\n",
       "0  261909     5    積極型  2018-10-30 22:54:34.523  201809A   A0  是否為其他國家稅務居住者?   \n",
       "1  261909     5    積極型  2018-10-30 22:54:34.523  201809A  A01         職業／行業別   \n",
       "2  261909     5    積極型  2018-10-30 22:54:34.523  201809A  A02             職務   \n",
       "3  261909     5    積極型  2018-10-30 22:54:34.523  201809A  A03           任職單位   \n",
       "4  261909     5    積極型  2018-10-30 22:54:34.523  201809A  A03           任職單位   \n",
       "\n",
       "   ANS_ORDER   ANS_ITEM  答題得分 客戶職業與任職部門     AGENT代碼  \n",
       "0          1        1.否     0       NaN  9999999999  \n",
       "1          8     8.退休人士     0       NaN  9999999999  \n",
       "2          1     1.基層職員     0       NaN  9999999999  \n",
       "3          1  1.任職公司／機構     0        寶豐  9999999999  \n",
       "4          2     2.任職部門     0        營建  9999999999  "
      ]
     },
     "execution_count": 3,
     "metadata": {},
     "output_type": "execute_result"
    }
   ],
   "source": [
    "risk_qa.head()"
   ]
  },
  {
   "cell_type": "code",
   "execution_count": 4,
   "metadata": {
    "collapsed": true
   },
   "outputs": [],
   "source": [
    "uni_id = np.unique(risk_qa[\"客戶編號\"])"
   ]
  },
  {
   "cell_type": "code",
   "execution_count": 5,
   "metadata": {
    "collapsed": true
   },
   "outputs": [],
   "source": [
    "attr_dict = defaultdict(lambda: defaultdict(list))\n",
    "max_ans_dict = defaultdict(int) # record max answer num for each question (for one-hot array)\n",
    "\n",
    "for index, row in risk_qa.iterrows():\n",
    "    attr_dict[row[\"客戶編號\"]][row[\"題目序號\"]].append(row[\"ANS_ORDER\"])\n",
    "    if max_ans_dict[row[\"題目序號\"]]<row[\"ANS_ORDER\"]:\n",
    "        max_ans_dict[row[\"題目序號\"]] = row[\"ANS_ORDER\"]\n"
   ]
  },
  {
   "cell_type": "code",
   "execution_count": 6,
   "metadata": {
    "collapsed": true
   },
   "outputs": [],
   "source": [
    "# filter out duplicate\n",
    "for k1 in attr_dict.keys():\n",
    "    for k2 in attr_dict[k1].keys():\n",
    "        attr_dict[k1][k2] = list(set(attr_dict[k1][k2]))"
   ]
  },
  {
   "cell_type": "code",
   "execution_count": 8,
   "metadata": {},
   "outputs": [
    {
     "data": {
      "text/plain": [
       "defaultdict(list,\n",
       "            {'A0': [1],\n",
       "             'A01': [8],\n",
       "             'A02': [1],\n",
       "             'A03': [1, 2],\n",
       "             'A04': [4],\n",
       "             'A05': [3],\n",
       "             'A06': [1],\n",
       "             'A07': [1],\n",
       "             'A08': [1, 3, 5],\n",
       "             'A09': [2, 3],\n",
       "             'A10': [2],\n",
       "             'A11': [1],\n",
       "             'A12': [1],\n",
       "             'A13': [1],\n",
       "             'A14': [4],\n",
       "             'B01': [3],\n",
       "             'B02': [1, 2, 3, 4, 5],\n",
       "             'B03': [3, 4, 5],\n",
       "             'B04': [5],\n",
       "             'B05': [4],\n",
       "             'B06': [4],\n",
       "             'B07': [4]})"
      ]
     },
     "execution_count": 8,
     "metadata": {},
     "output_type": "execute_result"
    }
   ],
   "source": [
    "# 問卷答案的字典\n",
    "attr_dict[261909]"
   ]
  },
  {
   "cell_type": "markdown",
   "metadata": {},
   "source": [
    "#### 每個答案做成一個字 ， 每個 user 當一篇文章，計算答案的共現性\n"
   ]
  },
  {
   "cell_type": "code",
   "execution_count": 9,
   "metadata": {
    "collapsed": true
   },
   "outputs": [],
   "source": [
    "doc_word_list = []\n",
    "for uid in attr_dict.keys():\n",
    "    single_word_list = []\n",
    "    for aid in attr_dict[uid].keys():\n",
    "        single_word_list += [aid + \"_\" + str(ans) for ans in attr_dict[uid][aid]]\n",
    "    doc_word_list.append(single_word_list)"
   ]
  },
  {
   "cell_type": "code",
   "execution_count": 10,
   "metadata": {
    "collapsed": true
   },
   "outputs": [],
   "source": [
    "names = list(set([w for l in doc_word_list for w in l]))\n",
    "occurrences = OrderedDict((name, OrderedDict((name, 0) for name in names)) for name in names)\n",
    " \n",
    "# Find the co-occurrences:\n",
    "for l in doc_word_list:\n",
    "    for i in range(len(l)):\n",
    "        for item in l[:i] + l[i + 1:]:\n",
    "            occurrences[l[i]][item] += 1\n",
    "            \n",
    "co_occur = pd.DataFrame.from_dict(occurrences)"
   ]
  },
  {
   "cell_type": "code",
   "execution_count": 11,
   "metadata": {
    "collapsed": true
   },
   "outputs": [],
   "source": [
    "# co_occur.to_csv('./answer_cooccurance_matrix.csv')"
   ]
  },
  {
   "cell_type": "markdown",
   "metadata": {},
   "source": [
    "### query and ranking "
   ]
  },
  {
   "cell_type": "code",
   "execution_count": 12,
   "metadata": {
    "scrolled": true
   },
   "outputs": [
    {
     "name": "stdout",
     "output_type": "stream",
     "text": [
      "Ranking\n"
     ]
    },
    {
     "data": {
      "text/plain": [
       "A0_1     119\n",
       "A07_1    119\n",
       "A03_1    119\n",
       "A03_2    119\n",
       "A14_4    118\n",
       "A06_1    115\n",
       "A09_1    112\n",
       "B02_1    109\n",
       "B03_4    108\n",
       "A13_1    107\n",
       "Name: A01_2, dtype: int64"
      ]
     },
     "execution_count": 12,
     "metadata": {},
     "output_type": "execute_result"
    }
   ],
   "source": [
    "query = \"A01_2\"\n",
    "print(\"Ranking\")\n",
    "co_occur[query].sort_values(ascending=False)[:10]"
   ]
  },
  {
   "cell_type": "markdown",
   "metadata": {},
   "source": [
    "### t-testing"
   ]
  },
  {
   "cell_type": "code",
   "execution_count": 128,
   "metadata": {},
   "outputs": [
    {
     "data": {
      "text/plain": [
       "array([ 220,    3,   27,   38,   26,   16,    4,    1,  119,    4,  177,\n",
       "         30,   17,   69,  178,  309,  265,   99,   73,  208,   11,  545,\n",
       "        375,  150,  292,  101,   73,  356, 1884, 1884,   51,  192,  362,\n",
       "        836,  443,  434, 1067,  387, 1746,   37,   16,    5,    4,   81,\n",
       "       1882, 1235,  151,  941,  362, 1263,  150,    5, 1409,  304, 1064,\n",
       "        131,   18,   25,  126,  119,   20, 1882,    3,  192,  589,  939,\n",
       "        141,   36,  713,  861,  300,   15,    8, 1468,  318,  106, 1695,\n",
       "        194,   34,   22,   20, 1806,   40,   85,  322,  709,  729, 1625,\n",
       "        886, 1164, 1567, 1210,  285,  494,  871, 1535, 1315,   21,  171,\n",
       "        469,  254,  982,    4,    6,  734, 1099,   51,   10,  154,  487,\n",
       "        590,  656,   87,  232,  376,  445,  758], dtype=int64)"
      ]
     },
     "execution_count": 128,
     "metadata": {},
     "output_type": "execute_result"
    }
   ],
   "source": [
    "np.unique(total_words, return_counts=True)"
   ]
  },
  {
   "cell_type": "code",
   "execution_count": 13,
   "metadata": {
    "collapsed": true
   },
   "outputs": [],
   "source": [
    "total_words = [word for doc in doc_word_list for word in doc]\n",
    "total_words_count = len(total_words)\n",
    "words_p_dict = {}\n",
    "uniq = np.unique(total_words, return_counts=True)\n",
    "for word, count in zip(uniq[0], uniq[1]):\n",
    "    words_p_dict[word] = count/total_words_count\n",
    "    \n",
    "co_occur_prob = co_occur/total_words_count"
   ]
  },
  {
   "cell_type": "code",
   "execution_count": 14,
   "metadata": {
    "collapsed": true
   },
   "outputs": [],
   "source": [
    "t_test_dict = OrderedDict((name, OrderedDict((name, 0) for name in names)) for name in names)\n",
    "significant_dict = defaultdict(list)\n",
    "for name1 in names:\n",
    "    for name2 in names:\n",
    "        u = words_p_dict[name1]*words_p_dict[name2]\n",
    "        if name1 == name2:\n",
    "            x_bar = 1\n",
    "        else:\n",
    "            x_bar = co_occur_prob[name1][name2]\n",
    "        if x_bar == 0.:\n",
    "            value = 0\n",
    "        else: \n",
    "            value = (x_bar-u)/(x_bar/total_words_count)**0.5\n",
    "        t_test_dict[name1][name2] = value\n",
    "        if value> 2.576:\n",
    "            significant_dict[name1].append(name2)\n",
    "\n",
    "t_test = pd.DataFrame.from_dict(t_test_dict)"
   ]
  },
  {
   "cell_type": "code",
   "execution_count": 17,
   "metadata": {
    "scrolled": true
   },
   "outputs": [
    {
     "name": "stdout",
     "output_type": "stream",
     "text": [
      "['B02_4', 'B07_4', 'A02_3', 'B06_5', 'B03_5', 'A02_4', 'A11_3', 'B07_2', 'A03_2', 'A05_3', 'A09_7', 'B07_3', 'A01_1', 'A05_1', 'A06_1', 'A14_4', 'A08_5', 'A0_1', 'A10_4', 'A02_2', 'B03_3', 'B05_3', 'A09_4', 'B07_5', 'A04_4', 'A02_5', 'A12_1', 'A04_3', 'A08_2', 'B06_4', 'B03_2', 'A04_5', 'A08_3', 'A11_1', 'A05_2', 'B03_4', 'B04_5', 'B06_2', 'B01_5', 'A13_1', 'A13_2', 'B04_3', 'A10_2', 'B01_3', 'B04_2', 'B02_2', 'B02_5', 'A08_4', 'A11_2', 'B03_1', 'A09_3', 'B02_1', 'B07_1', 'A10_3', 'A12_3', 'A07_1', 'A09_1', 'B01_4', 'B06_3', 'A02_1', 'A03_1', 'A12_2', 'B04_4', 'B05_4', 'B02_3', 'A08_1', 'A08_6']\n"
     ]
    }
   ],
   "source": [
    "print(significant_dict[\"A01_1\"])"
   ]
  },
  {
   "cell_type": "code",
   "execution_count": 18,
   "metadata": {
    "scrolled": true
   },
   "outputs": [
    {
     "data": {
      "text/plain": [
       "A01_2    232.775594\n",
       "A0_1      10.529821\n",
       "A07_1     10.529821\n",
       "A03_1     10.529419\n",
       "A03_2     10.529419\n",
       "A14_4     10.497653\n",
       "A06_1     10.366234\n",
       "A09_1     10.290610\n",
       "B02_1     10.098478\n",
       "B03_4     10.067917\n",
       "Name: A01_2, dtype: float64"
      ]
     },
     "execution_count": 18,
     "metadata": {},
     "output_type": "execute_result"
    }
   ],
   "source": [
    "t_test[\"A01_2\"].sort_values(ascending=False)[:10]"
   ]
  },
  {
   "cell_type": "code",
   "execution_count": 19,
   "metadata": {
    "collapsed": true
   },
   "outputs": [],
   "source": [
    "# t_test.to_csv('./t_test.csv')"
   ]
  },
  {
   "cell_type": "code",
   "execution_count": null,
   "metadata": {
    "collapsed": true
   },
   "outputs": [],
   "source": []
  },
  {
   "cell_type": "code",
   "execution_count": 20,
   "metadata": {
    "collapsed": true
   },
   "outputs": [],
   "source": [
    "# create feature matrix"
   ]
  },
  {
   "cell_type": "code",
   "execution_count": 21,
   "metadata": {},
   "outputs": [
    {
     "name": "stdout",
     "output_type": "stream",
     "text": [
      "['A0', 'A01', 'A02', 'A03', 'A04', 'A05', 'A06', 'A07', 'A08', 'A09', 'A10', 'A11', 'A12', 'A13', 'A14', 'B01', 'B02', 'B03', 'B04', 'B05', 'B06', 'B07']\n"
     ]
    }
   ],
   "source": [
    "question_list = list(max_ans_dict.keys())\n",
    "print(question_list)"
   ]
  },
  {
   "cell_type": "code",
   "execution_count": 22,
   "metadata": {},
   "outputs": [
    {
     "name": "stdout",
     "output_type": "stream",
     "text": [
      "defaultdict(<class 'int'>, {'A0': 3, 'A01': 24, 'A02': 7, 'A03': 2, 'A04': 5, 'A05': 3, 'A06': 6, 'A07': 1, 'A08': 7, 'A09': 9, 'A10': 5, 'A11': 5, 'A12': 3, 'A13': 2, 'A14': 4, 'B01': 5, 'B02': 5, 'B03': 5, 'B04': 5, 'B05': 5, 'B06': 5, 'B07': 5})\n"
     ]
    }
   ],
   "source": [
    "print(max_ans_dict)"
   ]
  },
  {
   "cell_type": "code",
   "execution_count": 23,
   "metadata": {},
   "outputs": [],
   "source": [
    "# pickle.dump(max_ans_dict, open(\"./max_ans_dict.pkl\",\"wb\"))"
   ]
  },
  {
   "cell_type": "markdown",
   "metadata": {},
   "source": [
    "## create feature matrix (one-hot encoding)"
   ]
  },
  {
   "cell_type": "code",
   "execution_count": 24,
   "metadata": {
    "collapsed": true
   },
   "outputs": [],
   "source": [
    "feature_matrix = []\n",
    "id_list = []\n",
    "uid_feature_dict = defaultdict()\n",
    "for user in attr_dict.keys():\n",
    "    single_user_feature = []\n",
    "    for q in question_list:\n",
    "        ans = np.array(attr_dict[user][q])-1\n",
    "        one_hot = np.zeros(max_ans_dict[q])\n",
    "        if len(ans)!=0:\n",
    "            one_hot[ans] = 1\n",
    "        single_user_feature.append(one_hot)\n",
    "    merge_feature = np.hstack(single_user_feature)\n",
    "    feature_matrix.append(merge_feature)\n",
    "    id_list.append(user)\n",
    "    uid_feature_dict[user] = merge_feature\n",
    "feature_matrix = np.vstack(feature_matrix)"
   ]
  },
  {
   "cell_type": "code",
   "execution_count": 25,
   "metadata": {},
   "outputs": [
    {
     "name": "stdout",
     "output_type": "stream",
     "text": [
      "[ 1.  1.  1.  1.  1.]\n"
     ]
    }
   ],
   "source": [
    "# question answer indexing\n",
    "user_id = 159728\n",
    "q_id = \"B02\"\n",
    "q_index = list(max_ans_dict.keys()).index(q_id)\n",
    "start_index = sum(list(max_ans_dict.values())[:q_index])\n",
    "end_index = start_index+max_ans_dict[q_id]\n",
    "print(uid_feature_dict[user_id][start_index:end_index])"
   ]
  },
  {
   "cell_type": "code",
   "execution_count": 26,
   "metadata": {
    "collapsed": true
   },
   "outputs": [],
   "source": [
    "pickle.dump(uid_feature_dict, open(\"./uid_feature_dict.pkl\",\"wb\"))"
   ]
  },
  {
   "cell_type": "code",
   "execution_count": 27,
   "metadata": {},
   "outputs": [
    {
     "data": {
      "text/plain": [
       "(array([2, 4, 5], dtype=int64), array([   2,  101, 1786], dtype=int64))"
      ]
     },
     "execution_count": 27,
     "metadata": {},
     "output_type": "execute_result"
    }
   ],
   "source": [
    "# 客戶之風險等級\n",
    "risk_dist = risk_qa[[\"客戶編號\",\"風險等級\"]].drop_duplicates()[\"風險等級\"]\n",
    "\n",
    "np.unique(risk_dist, return_counts=True)"
   ]
  },
  {
   "cell_type": "markdown",
   "metadata": {},
   "source": [
    "非常多數的使用者問卷答案都偏好風險五"
   ]
  },
  {
   "cell_type": "code",
   "execution_count": 28,
   "metadata": {},
   "outputs": [
    {
     "data": {
      "text/plain": [
       "(1884, 121)"
      ]
     },
     "execution_count": 28,
     "metadata": {},
     "output_type": "execute_result"
    }
   ],
   "source": [
    "feature_matrix.shape"
   ]
  },
  {
   "cell_type": "code",
   "execution_count": 29,
   "metadata": {
    "collapsed": true
   },
   "outputs": [],
   "source": [
    "# X = feature_matrix\n",
    "# X_embedded = TSNE(n_components=2, perplexity=80).fit_transform(X)\n",
    "# X_embedded = PCA(n_components=2).fit_transform(X)\n",
    "\n",
    "# X_embedded.shape\n",
    "\n",
    "# plt.figure(figsize=(16,9))\n",
    "# # cm = plt.cm.get_cmap(\"tab20\", 18)\n",
    "# sc = plt.scatter(X_embedded[:,0], X_embedded[:,1])\n",
    "# plt.show()"
   ]
  },
  {
   "cell_type": "markdown",
   "metadata": {},
   "source": [
    "# 實際投資行為"
   ]
  },
  {
   "cell_type": "code",
   "execution_count": 30,
   "metadata": {
    "collapsed": true
   },
   "outputs": [],
   "source": [
    "invest = pd.read_excel(\"invest_data.xlsx\")"
   ]
  },
  {
   "cell_type": "code",
   "execution_count": 31,
   "metadata": {
    "collapsed": true
   },
   "outputs": [],
   "source": [
    "user_invest_dict = defaultdict(list)\n",
    "for index, row in invest.iterrows():\n",
    "    uid = row[\"客戶\"]\n",
    "    fund = row[\"基金簡稱\"].replace(\"-\",\"\").replace(\" \",\"\")\n",
    "    user_invest_dict[uid].append(fund)"
   ]
  },
  {
   "cell_type": "code",
   "execution_count": 32,
   "metadata": {},
   "outputs": [
    {
     "data": {
      "text/plain": [
       "1522"
      ]
     },
     "execution_count": 32,
     "metadata": {},
     "output_type": "execute_result"
    }
   ],
   "source": [
    "len(user_invest_dict.keys())"
   ]
  },
  {
   "cell_type": "code",
   "execution_count": 33,
   "metadata": {},
   "outputs": [
    {
     "data": {
      "text/plain": [
       "1884"
      ]
     },
     "execution_count": 33,
     "metadata": {},
     "output_type": "execute_result"
    }
   ],
   "source": [
    "len(attr_dict.keys())"
   ]
  },
  {
   "cell_type": "markdown",
   "metadata": {},
   "source": [
    "### combine fund name with answers word"
   ]
  },
  {
   "cell_type": "code",
   "execution_count": 35,
   "metadata": {
    "collapsed": true
   },
   "outputs": [],
   "source": [
    "doc_word_list = []\n",
    "for uid in user_invest_dict.keys():\n",
    "    single_word_list = []\n",
    "    for aid in attr_dict[uid].keys():\n",
    "        single_word_list += [aid + \"_\" + str(ans) for ans in attr_dict[uid][aid]]\n",
    "    single_word_list += user_invest_dict[uid]\n",
    "    doc_word_list.append(single_word_list)"
   ]
  },
  {
   "cell_type": "code",
   "execution_count": 36,
   "metadata": {
    "collapsed": true
   },
   "outputs": [],
   "source": [
    "# compute co-occurrence matrix\n",
    "names = list(set([w for l in doc_word_list for w in l]))\n",
    "occurrences_w_fund = OrderedDict((name, OrderedDict((name, 0) for name in names)) for name in names)\n",
    " \n",
    "# Find the co-occurrences:\n",
    "for l in doc_word_list:\n",
    "    for i in range(len(l)):\n",
    "        for item in l[:i] + l[i + 1:]:\n",
    "            occurrences_w_fund[l[i]][item] += 1\n",
    "            \n",
    "co_occur_w_fund = pd.DataFrame.from_dict(occurrences_w_fund)"
   ]
  },
  {
   "cell_type": "code",
   "execution_count": 37,
   "metadata": {},
   "outputs": [
    {
     "data": {
      "text/html": [
       "<div>\n",
       "<style scoped>\n",
       "    .dataframe tbody tr th:only-of-type {\n",
       "        vertical-align: middle;\n",
       "    }\n",
       "\n",
       "    .dataframe tbody tr th {\n",
       "        vertical-align: top;\n",
       "    }\n",
       "\n",
       "    .dataframe thead th {\n",
       "        text-align: right;\n",
       "    }\n",
       "</style>\n",
       "<table border=\"1\" class=\"dataframe\">\n",
       "  <thead>\n",
       "    <tr style=\"text-align: right;\">\n",
       "      <th></th>\n",
       "      <th>A01_19</th>\n",
       "      <th>野村新興收益傘型基金之中國境內新興債券基金人民幣計價</th>\n",
       "      <th>野村四年階梯到期新興債累積新臺幣計價</th>\n",
       "      <th>A02_6</th>\n",
       "      <th>A09_6</th>\n",
       "      <th>A09_8</th>\n",
       "      <th>A09_5</th>\n",
       "      <th>野村亞太新興債券基金配息類型新臺幣計價</th>\n",
       "      <th>A01_18</th>\n",
       "      <th>野村全球金融收益基金月配類型人民幣計價</th>\n",
       "      <th>...</th>\n",
       "      <th>A08_1</th>\n",
       "      <th>A01_7</th>\n",
       "      <th>野村全球美元投資級公司債基金累積型</th>\n",
       "      <th>野村全球高股息基金季配型新臺幣計價</th>\n",
       "      <th>野村新興收益傘型之五年階梯到期新興債基金累積美元</th>\n",
       "      <th>A08_6</th>\n",
       "      <th>野村鑫全球債券組合基金S類型</th>\n",
       "      <th>野村美利堅高收益債證券投資信託基金累積型新臺幣計價</th>\n",
       "      <th>野村平衡基金</th>\n",
       "      <th>野村新興收益傘型之五年階梯到期新興債基金季配人民幣</th>\n",
       "    </tr>\n",
       "  </thead>\n",
       "  <tbody>\n",
       "    <tr>\n",
       "      <th>A01_1</th>\n",
       "      <td>0</td>\n",
       "      <td>0</td>\n",
       "      <td>2</td>\n",
       "      <td>0</td>\n",
       "      <td>0</td>\n",
       "      <td>4</td>\n",
       "      <td>2</td>\n",
       "      <td>3</td>\n",
       "      <td>0</td>\n",
       "      <td>0</td>\n",
       "      <td>...</td>\n",
       "      <td>123</td>\n",
       "      <td>0</td>\n",
       "      <td>0</td>\n",
       "      <td>0</td>\n",
       "      <td>0</td>\n",
       "      <td>12</td>\n",
       "      <td>0</td>\n",
       "      <td>3</td>\n",
       "      <td>1</td>\n",
       "      <td>0</td>\n",
       "    </tr>\n",
       "    <tr>\n",
       "      <th>A01_10</th>\n",
       "      <td>0</td>\n",
       "      <td>0</td>\n",
       "      <td>0</td>\n",
       "      <td>0</td>\n",
       "      <td>0</td>\n",
       "      <td>0</td>\n",
       "      <td>0</td>\n",
       "      <td>0</td>\n",
       "      <td>0</td>\n",
       "      <td>0</td>\n",
       "      <td>...</td>\n",
       "      <td>1</td>\n",
       "      <td>0</td>\n",
       "      <td>0</td>\n",
       "      <td>0</td>\n",
       "      <td>0</td>\n",
       "      <td>0</td>\n",
       "      <td>0</td>\n",
       "      <td>0</td>\n",
       "      <td>0</td>\n",
       "      <td>0</td>\n",
       "    </tr>\n",
       "    <tr>\n",
       "      <th>A01_12</th>\n",
       "      <td>0</td>\n",
       "      <td>0</td>\n",
       "      <td>0</td>\n",
       "      <td>1</td>\n",
       "      <td>0</td>\n",
       "      <td>2</td>\n",
       "      <td>0</td>\n",
       "      <td>0</td>\n",
       "      <td>0</td>\n",
       "      <td>0</td>\n",
       "      <td>...</td>\n",
       "      <td>12</td>\n",
       "      <td>0</td>\n",
       "      <td>0</td>\n",
       "      <td>0</td>\n",
       "      <td>0</td>\n",
       "      <td>1</td>\n",
       "      <td>0</td>\n",
       "      <td>0</td>\n",
       "      <td>0</td>\n",
       "      <td>0</td>\n",
       "    </tr>\n",
       "    <tr>\n",
       "      <th>A01_13</th>\n",
       "      <td>0</td>\n",
       "      <td>0</td>\n",
       "      <td>0</td>\n",
       "      <td>5</td>\n",
       "      <td>0</td>\n",
       "      <td>3</td>\n",
       "      <td>1</td>\n",
       "      <td>0</td>\n",
       "      <td>0</td>\n",
       "      <td>0</td>\n",
       "      <td>...</td>\n",
       "      <td>15</td>\n",
       "      <td>0</td>\n",
       "      <td>0</td>\n",
       "      <td>0</td>\n",
       "      <td>0</td>\n",
       "      <td>4</td>\n",
       "      <td>0</td>\n",
       "      <td>1</td>\n",
       "      <td>0</td>\n",
       "      <td>0</td>\n",
       "    </tr>\n",
       "    <tr>\n",
       "      <th>A01_14</th>\n",
       "      <td>0</td>\n",
       "      <td>0</td>\n",
       "      <td>0</td>\n",
       "      <td>2</td>\n",
       "      <td>0</td>\n",
       "      <td>6</td>\n",
       "      <td>0</td>\n",
       "      <td>0</td>\n",
       "      <td>0</td>\n",
       "      <td>0</td>\n",
       "      <td>...</td>\n",
       "      <td>11</td>\n",
       "      <td>0</td>\n",
       "      <td>0</td>\n",
       "      <td>0</td>\n",
       "      <td>0</td>\n",
       "      <td>0</td>\n",
       "      <td>0</td>\n",
       "      <td>0</td>\n",
       "      <td>0</td>\n",
       "      <td>0</td>\n",
       "    </tr>\n",
       "  </tbody>\n",
       "</table>\n",
       "<p>5 rows × 200 columns</p>\n",
       "</div>"
      ],
      "text/plain": [
       "        A01_19  野村新興收益傘型基金之中國境內新興債券基金人民幣計價  野村四年階梯到期新興債累積新臺幣計價  A02_6  A09_6  \\\n",
       "A01_1        0                           0                   2      0      0   \n",
       "A01_10       0                           0                   0      0      0   \n",
       "A01_12       0                           0                   0      1      0   \n",
       "A01_13       0                           0                   0      5      0   \n",
       "A01_14       0                           0                   0      2      0   \n",
       "\n",
       "        A09_8  A09_5  野村亞太新興債券基金配息類型新臺幣計價  A01_18  野村全球金融收益基金月配類型人民幣計價  ...  \\\n",
       "A01_1       4      2                    3       0                    0  ...   \n",
       "A01_10      0      0                    0       0                    0  ...   \n",
       "A01_12      2      0                    0       0                    0  ...   \n",
       "A01_13      3      1                    0       0                    0  ...   \n",
       "A01_14      6      0                    0       0                    0  ...   \n",
       "\n",
       "        A08_1  A01_7  野村全球美元投資級公司債基金累積型  野村全球高股息基金季配型新臺幣計價  \\\n",
       "A01_1     123      0                  0                  0   \n",
       "A01_10      1      0                  0                  0   \n",
       "A01_12     12      0                  0                  0   \n",
       "A01_13     15      0                  0                  0   \n",
       "A01_14     11      0                  0                  0   \n",
       "\n",
       "        野村新興收益傘型之五年階梯到期新興債基金累積美元  A08_6  野村鑫全球債券組合基金S類型  \\\n",
       "A01_1                          0     12               0   \n",
       "A01_10                         0      0               0   \n",
       "A01_12                         0      1               0   \n",
       "A01_13                         0      4               0   \n",
       "A01_14                         0      0               0   \n",
       "\n",
       "        野村美利堅高收益債證券投資信託基金累積型新臺幣計價  野村平衡基金  野村新興收益傘型之五年階梯到期新興債基金季配人民幣  \n",
       "A01_1                           3       1                          0  \n",
       "A01_10                          0       0                          0  \n",
       "A01_12                          0       0                          0  \n",
       "A01_13                          1       0                          0  \n",
       "A01_14                          0       0                          0  \n",
       "\n",
       "[5 rows x 200 columns]"
      ]
     },
     "execution_count": 37,
     "metadata": {},
     "output_type": "execute_result"
    }
   ],
   "source": [
    "co_occur_w_fund.head()"
   ]
  },
  {
   "cell_type": "markdown",
   "metadata": {},
   "source": [
    "# ranking result of investment preference"
   ]
  },
  {
   "cell_type": "code",
   "execution_count": 65,
   "metadata": {
    "scrolled": true
   },
   "outputs": [
    {
     "name": "stdout",
     "output_type": "stream",
     "text": [
      "query: A01_2\n",
      "Ranking\n"
     ]
    },
    {
     "data": {
      "text/plain": [
       "[('野村新興傘型之大俄羅斯基金', 27),\n",
       " ('野村中國機會基金', 24),\n",
       " ('野村環球基金新臺幣計價', 23),\n",
       " ('野村泰國基金', 22),\n",
       " ('野村中小基金累積類型', 22),\n",
       " ('野村全球生技醫療基金', 22),\n",
       " ('野村台灣運籌基金', 17),\n",
       " ('野村雙印傘型之印度潛力基金', 16),\n",
       " ('野村巴西證券投資信託基金', 15),\n",
       " ('野村全球品牌基金', 12)]"
      ]
     },
     "execution_count": 65,
     "metadata": {},
     "output_type": "execute_result"
    }
   ],
   "source": [
    "query = \"A01_2\"\n",
    "sorted_series = co_occur_w_fund[query].sort_values(ascending=False)\n",
    "\n",
    "# find out the trend of investment\n",
    "ranked_words_list = list(sorted_series.index)\n",
    "ranked_occurrence_list = list(sorted_series.values)\n",
    "ranked_fund = [(s,v) for s,v in zip(ranked_words_list, ranked_occurrence_list) if s[0]!=\"A\" and s[0]!=\"B\" and v!=0]\n",
    "print(\"query:\", query)\n",
    "print(\"Ranking\")\n",
    "ranked_fund[:10]"
   ]
  },
  {
   "cell_type": "code",
   "execution_count": 67,
   "metadata": {},
   "outputs": [
    {
     "name": "stdout",
     "output_type": "stream",
     "text": [
      "query: 野村新興傘型之大俄羅斯基金\n",
      "Ranking\n"
     ]
    },
    {
     "data": {
      "text/plain": [
       "[('B02_4', 295),\n",
       " ('B03_5', 288),\n",
       " ('B02_1', 287),\n",
       " ('B03_4', 286),\n",
       " ('B02_5', 272),\n",
       " ('B05_4', 235),\n",
       " ('B02_3', 217),\n",
       " ('B04_5', 203),\n",
       " ('B07_5', 182),\n",
       " ('B02_2', 174)]"
      ]
     },
     "execution_count": 67,
     "metadata": {},
     "output_type": "execute_result"
    }
   ],
   "source": [
    "query = \"野村新興傘型之大俄羅斯基金\"\n",
    "\n",
    "sorted_series = co_occur_w_fund[query].sort_values(ascending=False)\n",
    "\n",
    "# find out the trend of investment\n",
    "ranked_words_list = list(sorted_series.index)\n",
    "ranked_occurrence_list = list(sorted_series.values)\n",
    "ranked_fund = [(s,v) for s,v in zip(ranked_words_list, ranked_occurrence_list) if v!=0 and s[0]!=\"A\"]\n",
    "print(\"query:\",query)\n",
    "print(\"Ranking\")\n",
    "ranked_fund[:10]"
   ]
  },
  {
   "cell_type": "markdown",
   "metadata": {},
   "source": [
    "數量與原本的 co_occur 有出入是因為扣掉沒有實際投資資料的使用者"
   ]
  },
  {
   "cell_type": "markdown",
   "metadata": {},
   "source": [
    "# Investment EDA"
   ]
  },
  {
   "cell_type": "code",
   "execution_count": 39,
   "metadata": {
    "collapsed": true
   },
   "outputs": [],
   "source": [
    "invest[\"weight\"] = invest[\"風險等級\"].apply(lambda x:int(x[-1]))\n",
    "invest[\"weight_amount\"] = invest[\"weight\"]*invest[\"金額\"]"
   ]
  },
  {
   "cell_type": "code",
   "execution_count": 40,
   "metadata": {},
   "outputs": [
    {
     "data": {
      "text/html": [
       "<div>\n",
       "<style scoped>\n",
       "    .dataframe tbody tr th:only-of-type {\n",
       "        vertical-align: middle;\n",
       "    }\n",
       "\n",
       "    .dataframe tbody tr th {\n",
       "        vertical-align: top;\n",
       "    }\n",
       "\n",
       "    .dataframe thead th {\n",
       "        text-align: right;\n",
       "    }\n",
       "</style>\n",
       "<table border=\"1\" class=\"dataframe\">\n",
       "  <thead>\n",
       "    <tr style=\"text-align: right;\">\n",
       "      <th></th>\n",
       "      <th>客戶</th>\n",
       "      <th>金額</th>\n",
       "      <th>weight</th>\n",
       "      <th>weight_amount</th>\n",
       "    </tr>\n",
       "  </thead>\n",
       "  <tbody>\n",
       "    <tr>\n",
       "      <th>0</th>\n",
       "      <td>100066</td>\n",
       "      <td>601432</td>\n",
       "      <td>57</td>\n",
       "      <td>2261432</td>\n",
       "    </tr>\n",
       "    <tr>\n",
       "      <th>1</th>\n",
       "      <td>100542</td>\n",
       "      <td>3000</td>\n",
       "      <td>4</td>\n",
       "      <td>12000</td>\n",
       "    </tr>\n",
       "    <tr>\n",
       "      <th>2</th>\n",
       "      <td>100558</td>\n",
       "      <td>12000</td>\n",
       "      <td>18</td>\n",
       "      <td>57000</td>\n",
       "    </tr>\n",
       "    <tr>\n",
       "      <th>3</th>\n",
       "      <td>100606</td>\n",
       "      <td>12000</td>\n",
       "      <td>17</td>\n",
       "      <td>51000</td>\n",
       "    </tr>\n",
       "    <tr>\n",
       "      <th>4</th>\n",
       "      <td>100657</td>\n",
       "      <td>5000</td>\n",
       "      <td>4</td>\n",
       "      <td>20000</td>\n",
       "    </tr>\n",
       "  </tbody>\n",
       "</table>\n",
       "</div>"
      ],
      "text/plain": [
       "       客戶      金額  weight  weight_amount\n",
       "0  100066  601432      57        2261432\n",
       "1  100542    3000       4          12000\n",
       "2  100558   12000      18          57000\n",
       "3  100606   12000      17          51000\n",
       "4  100657    5000       4          20000"
      ]
     },
     "execution_count": 40,
     "metadata": {},
     "output_type": "execute_result"
    }
   ],
   "source": [
    "customer = list(set(invest[\"客戶\"]))\n",
    "customer_count = invest.groupby('客戶',as_index=False, sort=False).count()\n",
    "customer_total = invest.groupby('客戶',as_index=False, sort=False).sum()\n",
    "customer_total.head()"
   ]
  },
  {
   "cell_type": "code",
   "execution_count": 41,
   "metadata": {
    "collapsed": true
   },
   "outputs": [],
   "source": [
    "customer_total[\"weight_level\"] = customer_total[\"weight_amount\"]/customer_total[\"金額\"]"
   ]
  },
  {
   "cell_type": "code",
   "execution_count": 42,
   "metadata": {},
   "outputs": [
    {
     "data": {
      "text/html": [
       "<div>\n",
       "<style scoped>\n",
       "    .dataframe tbody tr th:only-of-type {\n",
       "        vertical-align: middle;\n",
       "    }\n",
       "\n",
       "    .dataframe tbody tr th {\n",
       "        vertical-align: top;\n",
       "    }\n",
       "\n",
       "    .dataframe thead th {\n",
       "        text-align: right;\n",
       "    }\n",
       "</style>\n",
       "<table border=\"1\" class=\"dataframe\">\n",
       "  <thead>\n",
       "    <tr style=\"text-align: right;\">\n",
       "      <th></th>\n",
       "      <th>客戶</th>\n",
       "      <th>金額</th>\n",
       "      <th>weight</th>\n",
       "      <th>weight_amount</th>\n",
       "      <th>weight_level</th>\n",
       "    </tr>\n",
       "  </thead>\n",
       "  <tbody>\n",
       "    <tr>\n",
       "      <th>0</th>\n",
       "      <td>100066</td>\n",
       "      <td>601432</td>\n",
       "      <td>57</td>\n",
       "      <td>2261432</td>\n",
       "      <td>3.760079</td>\n",
       "    </tr>\n",
       "    <tr>\n",
       "      <th>1</th>\n",
       "      <td>100542</td>\n",
       "      <td>3000</td>\n",
       "      <td>4</td>\n",
       "      <td>12000</td>\n",
       "      <td>4.000000</td>\n",
       "    </tr>\n",
       "    <tr>\n",
       "      <th>2</th>\n",
       "      <td>100558</td>\n",
       "      <td>12000</td>\n",
       "      <td>18</td>\n",
       "      <td>57000</td>\n",
       "      <td>4.750000</td>\n",
       "    </tr>\n",
       "    <tr>\n",
       "      <th>3</th>\n",
       "      <td>100606</td>\n",
       "      <td>12000</td>\n",
       "      <td>17</td>\n",
       "      <td>51000</td>\n",
       "      <td>4.250000</td>\n",
       "    </tr>\n",
       "    <tr>\n",
       "      <th>4</th>\n",
       "      <td>100657</td>\n",
       "      <td>5000</td>\n",
       "      <td>4</td>\n",
       "      <td>20000</td>\n",
       "      <td>4.000000</td>\n",
       "    </tr>\n",
       "  </tbody>\n",
       "</table>\n",
       "</div>"
      ],
      "text/plain": [
       "       客戶      金額  weight  weight_amount  weight_level\n",
       "0  100066  601432      57        2261432      3.760079\n",
       "1  100542    3000       4          12000      4.000000\n",
       "2  100558   12000      18          57000      4.750000\n",
       "3  100606   12000      17          51000      4.250000\n",
       "4  100657    5000       4          20000      4.000000"
      ]
     },
     "execution_count": 42,
     "metadata": {},
     "output_type": "execute_result"
    }
   ],
   "source": [
    "customer_total.head()"
   ]
  },
  {
   "cell_type": "code",
   "execution_count": 47,
   "metadata": {},
   "outputs": [
    {
     "data": {
      "image/png": "[encoded data removed]",
      "text/plain": [
       "<matplotlib.figure.Figure at 0x2090ab63550>"
      ]
     },
     "metadata": {},
     "output_type": "display_data"
    }
   ],
   "source": [
    "plt.figure(figsize=(10,5))\n",
    "plt.hist(customer_total[\"金額\"], bins=3000)\n",
    "plt.xlim(0,20000)\n",
    "plt.title(\"Investment per Customer\")\n",
    "plt.ylabel(\"Head Counts\")\n",
    "plt.xlabel(\"Amount\")\n",
    "plt.tight_layout()\n",
    "plt.savefig('Investment per Customer small small.png', dpi=500)\n",
    "plt.show()"
   ]
  },
  {
   "cell_type": "code",
   "execution_count": 61,
   "metadata": {},
   "outputs": [
    {
     "data": {
      "text/plain": [
       "1522"
      ]
     },
     "execution_count": 61,
     "metadata": {},
     "output_type": "execute_result"
    }
   ],
   "source": [
    "len(np.unique(customer_total[\"客戶\"]))"
   ]
  },
  {
   "cell_type": "code",
   "execution_count": 49,
   "metadata": {},
   "outputs": [
    {
     "data": {
      "text/plain": [
       "1487"
      ]
     },
     "execution_count": 49,
     "metadata": {},
     "output_type": "execute_result"
    }
   ],
   "source": [
    "sum(customer_total[\"金額\"]<1000000)"
   ]
  },
  {
   "cell_type": "code",
   "execution_count": 55,
   "metadata": {},
   "outputs": [
    {
     "name": "stderr",
     "output_type": "stream",
     "text": [
      "C:\\Users\\tsunh\\Anaconda3\\lib\\site-packages\\pandas\\core\\computation\\expressions.py:183: UserWarning: evaluating in Python space because the '*' operator is not supported by numexpr for the bool dtype, use '&' instead\n",
      "  .format(op=op_str, alt_op=unsupported[op_str]))\n"
     ]
    },
    {
     "data": {
      "text/plain": [
       "33"
      ]
     },
     "execution_count": 55,
     "metadata": {},
     "output_type": "execute_result"
    }
   ],
   "source": [
    "sum((customer_total[\"金額\"]>1000000) * (customer_total[\"金額\"]<3000000))"
   ]
  },
  {
   "cell_type": "code",
   "execution_count": 56,
   "metadata": {},
   "outputs": [
    {
     "data": {
      "text/plain": [
       "2"
      ]
     },
     "execution_count": 56,
     "metadata": {},
     "output_type": "execute_result"
    }
   ],
   "source": [
    "sum(customer_total[\"金額\"]>3000000)"
   ]
  },
  {
   "cell_type": "code",
   "execution_count": 27,
   "metadata": {},
   "outputs": [
    {
     "data": {
      "text/plain": [
       "(array(['RR1', 'RR2', 'RR3', 'RR4', 'RR5'], dtype=object),\n",
       " array([  61,   99,  521, 2609, 2530], dtype=int64))"
      ]
     },
     "execution_count": 27,
     "metadata": {},
     "output_type": "execute_result"
    }
   ],
   "source": [
    "np.unique(invest[\"風險等級\"], return_counts=True)"
   ]
  },
  {
   "cell_type": "code",
   "execution_count": null,
   "metadata": {
    "collapsed": true
   },
   "outputs": [],
   "source": [
    "vis_vec = []\n",
    "amount = []\n",
    "risk_level = []\n",
    "for c in customer:\n",
    "    money = customer_total.loc[customer_total[\"客戶\"]==c, \"金額\"].values[0]\n",
    "    level = customer_total.loc[customer_total[\"客戶\"]==c, \"weight_level\"].values[0]\n",
    "    if money<100000:\n",
    "        vis_vec.append(X_embedded[id_list.index(c)])\n",
    "        amount.append(money)\n",
    "        risk_level.append(level)\n",
    "vis_vec = np.vstack(vis_vec)"
   ]
  },
  {
   "cell_type": "code",
   "execution_count": null,
   "metadata": {
    "collapsed": true
   },
   "outputs": [],
   "source": [
    "plt.hist(risk_level,bins=40)\n",
    "plt.title(\"weighted risk level\")\n",
    "plt.show()"
   ]
  },
  {
   "cell_type": "code",
   "execution_count": null,
   "metadata": {
    "collapsed": true
   },
   "outputs": [],
   "source": [
    "amount = (np.array(amount)-min(amount))/(max(amount)-min(amount))"
   ]
  },
  {
   "cell_type": "code",
   "execution_count": null,
   "metadata": {
    "collapsed": true
   },
   "outputs": [],
   "source": [
    "cmap = sns.cubehelix_palette(as_cmap=True)\n",
    "\n",
    "f, ax = plt.subplots(figsize=(16,9))\n",
    "points = ax.scatter(vis_vec[:,0], vis_vec[:,1], c=risk_level, s=50, cmap=cmap)\n",
    "f.colorbar(points)\n",
    "plt.title(\"risk level\")\n",
    "plt.show()"
   ]
  },
  {
   "cell_type": "code",
   "execution_count": null,
   "metadata": {
    "collapsed": true
   },
   "outputs": [],
   "source": [
    "cmap = sns.cubehelix_palette(as_cmap=True)\n",
    "\n",
    "f, ax = plt.subplots(figsize=(16,9))\n",
    "points = ax.scatter(vis_vec[:,0], vis_vec[:,1], c=amount, s=50, cmap=cmap)\n",
    "f.colorbar(points)\n",
    "plt.title(\"investment amount\")\n",
    "plt.show()"
   ]
  },
  {
   "cell_type": "markdown",
   "metadata": {},
   "source": [
    "# 產品名稱"
   ]
  },
  {
   "cell_type": "code",
   "execution_count": null,
   "metadata": {
    "collapsed": true
   },
   "outputs": [],
   "source": [
    "product_corpus = \"\".join(list(invest[\"基金簡稱\"]))"
   ]
  },
  {
   "cell_type": "code",
   "execution_count": null,
   "metadata": {
    "collapsed": true
   },
   "outputs": [],
   "source": [
    "jieba.set_dictionary('C:/Users/thtang/Desktop/dict.txt.big.txt')"
   ]
  },
  {
   "cell_type": "code",
   "execution_count": null,
   "metadata": {
    "collapsed": true
   },
   "outputs": [],
   "source": [
    "product_words = jieba.lcut(product_corpus)"
   ]
  },
  {
   "cell_type": "code",
   "execution_count": null,
   "metadata": {
    "collapsed": true
   },
   "outputs": [],
   "source": [
    "\" \".join(product_words).replace(\"基金\",\"\").replace(\"野村\",\"\")"
   ]
  },
  {
   "cell_type": "code",
   "execution_count": null,
   "metadata": {
    "collapsed": true
   },
   "outputs": [],
   "source": [
    "freq = nltk.FreqDist(product_words)"
   ]
  },
  {
   "cell_type": "code",
   "execution_count": null,
   "metadata": {
    "collapsed": true,
    "scrolled": true
   },
   "outputs": [],
   "source": [
    "freq.most_common()"
   ]
  },
  {
   "cell_type": "code",
   "execution_count": null,
   "metadata": {
    "collapsed": true
   },
   "outputs": [],
   "source": []
  }
 ],
 "metadata": {
  "kernelspec": {
   "display_name": "Python 3",
   "language": "python",
   "name": "python3"
  },
  "language_info": {
   "codemirror_mode": {
    "name": "ipython",
    "version": 3
   },
   "file_extension": ".py",
   "mimetype": "text/x-python",
   "name": "python",
   "nbconvert_exporter": "python",
   "pygments_lexer": "ipython3",
   "version": "3.6.2"
  }
 },
 "nbformat": 4,
 "nbformat_minor": 2
}
